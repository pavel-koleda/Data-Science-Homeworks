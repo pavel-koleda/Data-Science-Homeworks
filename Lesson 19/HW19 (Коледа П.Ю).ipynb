{
 "cells": [
  {
   "cell_type": "markdown",
   "id": "38a34806",
   "metadata": {},
   "source": [
    "    Прочитайте данные из файла.\n",
    "    Определите оптимальное количество кластеров для прочитанных данных.\n",
    "    Постройте оптимальное разбиение на кластеры.\n",
    "    Спрогнозируйте классы для векторов\n",
    "    [-0.1805, -0.0659, -0.465199, 0.187700, -0.21910998]\n",
    "    и\n",
    "    [0.2226875, -0.133287, 2.8845, 3.2772081, 2.93884]\n",
    "\n",
    "    Постройте график метрики \"силуэт\" в зависимости от количества кластеров."
   ]
  },
  {
   "cell_type": "markdown",
   "id": "040bc65c",
   "metadata": {},
   "source": [
    "### 1. Чтение данных из файла."
   ]
  },
  {
   "cell_type": "code",
   "execution_count": 1,
   "id": "b292e5df",
   "metadata": {},
   "outputs": [],
   "source": [
    "import pandas as pd\n",
    "from matplotlib import pyplot as plt\n",
    "import seaborn as sns\n",
    "%matplotlib inline\n",
    "import numpy as np\n",
    "from sklearn.metrics import confusion_matrix, precision_score, \\\n",
    "              recall_score, f1_score, precision_recall_curve, roc_curve, roc_auc_score, \\\n",
    "              auc, mean_squared_error, accuracy_score\n",
    "import math\n",
    "plt.rcParams[\"figure.figsize\"] = (12,6)\n",
    "from sklearn.model_selection import cross_val_score"
   ]
  },
  {
   "cell_type": "code",
   "execution_count": 2,
   "id": "23d21db8",
   "metadata": {},
   "outputs": [],
   "source": [
    "df = pd.read_csv('X.csv', sep=' ', header=None)"
   ]
  },
  {
   "cell_type": "code",
   "execution_count": 3,
   "id": "a201a96f",
   "metadata": {
    "scrolled": true
   },
   "outputs": [
    {
     "data": {
      "text/html": [
       "<div>\n",
       "<style scoped>\n",
       "    .dataframe tbody tr th:only-of-type {\n",
       "        vertical-align: middle;\n",
       "    }\n",
       "\n",
       "    .dataframe tbody tr th {\n",
       "        vertical-align: top;\n",
       "    }\n",
       "\n",
       "    .dataframe thead th {\n",
       "        text-align: right;\n",
       "    }\n",
       "</style>\n",
       "<table border=\"1\" class=\"dataframe\">\n",
       "  <thead>\n",
       "    <tr style=\"text-align: right;\">\n",
       "      <th></th>\n",
       "      <th>0</th>\n",
       "      <th>1</th>\n",
       "      <th>2</th>\n",
       "      <th>3</th>\n",
       "      <th>4</th>\n",
       "    </tr>\n",
       "  </thead>\n",
       "  <tbody>\n",
       "    <tr>\n",
       "      <th>0</th>\n",
       "      <td>0.149014</td>\n",
       "      <td>0.097225</td>\n",
       "      <td>-0.424611</td>\n",
       "      <td>0.075148</td>\n",
       "      <td>0.107336</td>\n",
       "    </tr>\n",
       "    <tr>\n",
       "      <th>1</th>\n",
       "      <td>-0.041479</td>\n",
       "      <td>-0.115525</td>\n",
       "      <td>-0.126194</td>\n",
       "      <td>0.103934</td>\n",
       "      <td>0.168235</td>\n",
       "    </tr>\n",
       "    <tr>\n",
       "      <th>2</th>\n",
       "      <td>0.194307</td>\n",
       "      <td>-0.203077</td>\n",
       "      <td>-0.102814</td>\n",
       "      <td>-0.204007</td>\n",
       "      <td>0.324915</td>\n",
       "    </tr>\n",
       "    <tr>\n",
       "      <th>3</th>\n",
       "      <td>0.456909</td>\n",
       "      <td>0.183503</td>\n",
       "      <td>-0.240683</td>\n",
       "      <td>0.069676</td>\n",
       "      <td>0.316141</td>\n",
       "    </tr>\n",
       "    <tr>\n",
       "      <th>4</th>\n",
       "      <td>-0.070246</td>\n",
       "      <td>0.309300</td>\n",
       "      <td>-0.048386</td>\n",
       "      <td>0.087922</td>\n",
       "      <td>-0.413301</td>\n",
       "    </tr>\n",
       "    <tr>\n",
       "      <th>...</th>\n",
       "      <td>...</td>\n",
       "      <td>...</td>\n",
       "      <td>...</td>\n",
       "      <td>...</td>\n",
       "      <td>...</td>\n",
       "    </tr>\n",
       "    <tr>\n",
       "      <th>295</th>\n",
       "      <td>4.970333</td>\n",
       "      <td>4.554531</td>\n",
       "      <td>5.055404</td>\n",
       "      <td>4.804593</td>\n",
       "      <td>5.601828</td>\n",
       "    </tr>\n",
       "    <tr>\n",
       "      <th>296</th>\n",
       "      <td>5.275723</td>\n",
       "      <td>4.233824</td>\n",
       "      <td>4.595862</td>\n",
       "      <td>4.841415</td>\n",
       "      <td>5.618451</td>\n",
       "    </tr>\n",
       "    <tr>\n",
       "      <th>297</th>\n",
       "      <td>4.912918</td>\n",
       "      <td>5.280296</td>\n",
       "      <td>4.708516</td>\n",
       "      <td>5.175909</td>\n",
       "      <td>5.362510</td>\n",
       "    </tr>\n",
       "    <tr>\n",
       "      <th>298</th>\n",
       "      <td>5.080218</td>\n",
       "      <td>4.589936</td>\n",
       "      <td>5.360124</td>\n",
       "      <td>5.371485</td>\n",
       "      <td>5.307219</td>\n",
       "    </tr>\n",
       "    <tr>\n",
       "      <th>299</th>\n",
       "      <td>5.096509</td>\n",
       "      <td>4.932570</td>\n",
       "      <td>4.802932</td>\n",
       "      <td>5.006381</td>\n",
       "      <td>5.177758</td>\n",
       "    </tr>\n",
       "  </tbody>\n",
       "</table>\n",
       "<p>300 rows × 5 columns</p>\n",
       "</div>"
      ],
      "text/plain": [
       "            0         1         2         3         4\n",
       "0    0.149014  0.097225 -0.424611  0.075148  0.107336\n",
       "1   -0.041479 -0.115525 -0.126194  0.103934  0.168235\n",
       "2    0.194307 -0.203077 -0.102814 -0.204007  0.324915\n",
       "3    0.456909  0.183503 -0.240683  0.069676  0.316141\n",
       "4   -0.070246  0.309300 -0.048386  0.087922 -0.413301\n",
       "..        ...       ...       ...       ...       ...\n",
       "295  4.970333  4.554531  5.055404  4.804593  5.601828\n",
       "296  5.275723  4.233824  4.595862  4.841415  5.618451\n",
       "297  4.912918  5.280296  4.708516  5.175909  5.362510\n",
       "298  5.080218  4.589936  5.360124  5.371485  5.307219\n",
       "299  5.096509  4.932570  4.802932  5.006381  5.177758\n",
       "\n",
       "[300 rows x 5 columns]"
      ]
     },
     "execution_count": 3,
     "metadata": {},
     "output_type": "execute_result"
    }
   ],
   "source": [
    "df"
   ]
  },
  {
   "cell_type": "code",
   "execution_count": 4,
   "id": "8e89d0bb",
   "metadata": {},
   "outputs": [],
   "source": [
    "from sklearn.preprocessing import MinMaxScaler\n",
    "SC = MinMaxScaler()\n",
    "X_s = SC.fit_transform(df)"
   ]
  },
  {
   "cell_type": "code",
   "execution_count": 5,
   "id": "56f0b7ef",
   "metadata": {},
   "outputs": [
    {
     "data": {
      "text/plain": [
       "array([[0.2256986 , 0.14141356, 0.01660574, 0.08676375, 0.11190884],\n",
       "       [0.19935417, 0.10734714, 0.03991917, 0.09147981, 0.12144213],\n",
       "       [0.23196233, 0.09332795, 0.04174564, 0.04103024, 0.14596919],\n",
       "       ...,\n",
       "       [0.88452561, 0.97134908, 0.41762368, 0.92241235, 0.93456607],\n",
       "       [0.90766248, 0.86080574, 0.46852962, 0.95445317, 0.92591067],\n",
       "       [0.90991554, 0.91566976, 0.42499979, 0.89463893, 0.90564459]])"
      ]
     },
     "execution_count": 5,
     "metadata": {},
     "output_type": "execute_result"
    }
   ],
   "source": [
    "X_s"
   ]
  },
  {
   "cell_type": "markdown",
   "id": "b4159aad",
   "metadata": {},
   "source": [
    "### 2. Определение оптимального количества кластеров для прочитанных данных."
   ]
  },
  {
   "cell_type": "code",
   "execution_count": 6,
   "id": "009ce823",
   "metadata": {
    "scrolled": false
   },
   "outputs": [
    {
     "name": "stderr",
     "output_type": "stream",
     "text": [
      "D:\\anaconda3\\lib\\site-packages\\sklearn\\cluster\\_kmeans.py:1036: UserWarning: KMeans is known to have a memory leak on Windows with MKL, when there are less chunks than available threads. You can avoid it by setting the environment variable OMP_NUM_THREADS=2.\n",
      "  warnings.warn(\n"
     ]
    },
    {
     "data": {
      "image/png": "[encoded data removed]",
      "text/plain": [
       "<Figure size 1200x600 with 1 Axes>"
      ]
     },
     "metadata": {},
     "output_type": "display_data"
    }
   ],
   "source": [
    "from sklearn.cluster import KMeans\n",
    "\n",
    "inertia = []\n",
    "for k in range(1, 8):\n",
    "    kmeans = KMeans(n_clusters=k, random_state=1).fit(X_s)\n",
    "    inertia.append(np.sqrt(kmeans.inertia_))\n",
    "\n",
    "plt.plot(range(1, 8), inertia, marker='s');\n",
    "plt.xlabel('$k$')\n",
    "plt.ylabel('$J(C_k)$');"
   ]
  },
  {
   "cell_type": "code",
   "execution_count": 7,
   "id": "1ff5462f",
   "metadata": {},
   "outputs": [],
   "source": [
    "# Судя по графику оптимальное количество кластеров равно 6."
   ]
  },
  {
   "cell_type": "markdown",
   "id": "81378edb",
   "metadata": {},
   "source": [
    "### 3. Строим оптимальное разбиение на кластеры."
   ]
  },
  {
   "cell_type": "code",
   "execution_count": 8,
   "id": "b8409041",
   "metadata": {
    "scrolled": true
   },
   "outputs": [
    {
     "data": {
      "text/plain": [
       "array([0, 0, 0, 0, 0, 0, 0, 0, 0, 0, 0, 0, 0, 0, 0, 0, 0, 0, 0, 0, 0, 0,\n",
       "       0, 0, 0, 0, 0, 0, 0, 0, 0, 0, 0, 0, 0, 0, 0, 0, 0, 0, 0, 0, 0, 0,\n",
       "       0, 0, 0, 0, 0, 0, 4, 4, 4, 4, 4, 4, 4, 4, 4, 4, 4, 4, 4, 4, 4, 4,\n",
       "       4, 4, 4, 4, 4, 4, 4, 4, 4, 4, 4, 4, 4, 4, 4, 4, 4, 4, 4, 4, 4, 4,\n",
       "       4, 4, 4, 4, 4, 4, 4, 4, 4, 4, 4, 4, 2, 2, 2, 2, 2, 2, 2, 2, 2, 2,\n",
       "       2, 2, 2, 2, 2, 2, 2, 2, 2, 2, 2, 2, 2, 2, 2, 2, 2, 2, 2, 2, 2, 2,\n",
       "       2, 2, 2, 2, 2, 2, 2, 2, 2, 2, 2, 2, 2, 2, 2, 2, 2, 2, 5, 5, 5, 5,\n",
       "       5, 5, 5, 5, 5, 5, 5, 5, 5, 5, 5, 5, 5, 5, 5, 5, 5, 5, 5, 5, 5, 5,\n",
       "       5, 5, 5, 5, 5, 5, 5, 5, 5, 5, 5, 5, 5, 5, 5, 5, 5, 5, 5, 5, 5, 5,\n",
       "       5, 5, 3, 3, 3, 3, 3, 3, 3, 3, 3, 3, 3, 3, 3, 3, 3, 3, 3, 3, 3, 3,\n",
       "       3, 3, 3, 3, 3, 3, 3, 3, 3, 3, 3, 3, 3, 3, 3, 3, 3, 3, 3, 3, 3, 3,\n",
       "       3, 3, 3, 3, 3, 3, 3, 3, 1, 1, 1, 1, 1, 1, 1, 1, 1, 1, 1, 1, 1, 1,\n",
       "       1, 1, 1, 1, 1, 1, 1, 1, 1, 1, 1, 1, 1, 1, 1, 1, 1, 1, 1, 1, 1, 1,\n",
       "       1, 1, 1, 1, 1, 1, 1, 1, 1, 1, 1, 1, 1, 1])"
      ]
     },
     "execution_count": 8,
     "metadata": {},
     "output_type": "execute_result"
    }
   ],
   "source": [
    "kmeans = KMeans(n_clusters=6, random_state=1).fit(X_s)\n",
    "kmeans.predict(X_s)"
   ]
  },
  {
   "cell_type": "markdown",
   "id": "c90cac75",
   "metadata": {},
   "source": [
    "### 4. Спрогнозируем классы для векторов\n",
    "[-0.1805, -0.0659, -0.465199, 0.187700, -0.21910998]\n",
    "и\n",
    "[0.2226875, -0.133287, 2.8845, 3.2772081, 2.93884]"
   ]
  },
  {
   "cell_type": "code",
   "execution_count": 9,
   "id": "43dd6f74",
   "metadata": {},
   "outputs": [
    {
     "data": {
      "text/plain": [
       "array([[-0.1805    , -0.0659    , -0.465199  ,  0.1877    , -0.21910998],\n",
       "       [ 0.2226875 , -0.133287  ,  2.8845    ,  3.2772081 ,  2.93884   ]])"
      ]
     },
     "execution_count": 9,
     "metadata": {},
     "output_type": "execute_result"
    }
   ],
   "source": [
    "X_test = np.array([[-0.1805, -0.0659, -0.465199, 0.187700, -0.21910998], [0.2226875, -0.133287, 2.8845, 3.2772081, 2.93884]])\n",
    "X_test"
   ]
  },
  {
   "cell_type": "code",
   "execution_count": 10,
   "id": "fdd3b41c",
   "metadata": {},
   "outputs": [
    {
     "data": {
      "text/plain": [
       "array([[0.18012822, 0.11529326, 0.01343488, 0.10520297, 0.06080618],\n",
       "       [0.23588729, 0.10450296, 0.27512515, 0.61135155, 0.55515909]])"
      ]
     },
     "execution_count": 10,
     "metadata": {},
     "output_type": "execute_result"
    }
   ],
   "source": [
    "X_test1 = SC.transform(X_test)\n",
    "X_test1"
   ]
  },
  {
   "cell_type": "code",
   "execution_count": 11,
   "id": "3b9585d9",
   "metadata": {},
   "outputs": [
    {
     "data": {
      "text/plain": [
       "array([0, 2])"
      ]
     },
     "execution_count": 11,
     "metadata": {},
     "output_type": "execute_result"
    }
   ],
   "source": [
    "kmeans.predict(X_test1)"
   ]
  },
  {
   "cell_type": "code",
   "execution_count": 12,
   "id": "0b5a5169",
   "metadata": {},
   "outputs": [
    {
     "data": {
      "text/plain": [
       "0.8297279183180319"
      ]
     },
     "execution_count": 12,
     "metadata": {},
     "output_type": "execute_result"
    }
   ],
   "source": [
    "# Метрики\n",
    "from sklearn import metrics\n",
    "metrics.silhouette_score(X_s, kmeans.labels_)"
   ]
  },
  {
   "cell_type": "markdown",
   "id": "09a434c1",
   "metadata": {},
   "source": [
    "### 5. Построим график метрики \"силуэт\" в зависимости от количества кластеров."
   ]
  },
  {
   "cell_type": "code",
   "execution_count": 13,
   "id": "ced1daf3",
   "metadata": {},
   "outputs": [
    {
     "data": {
      "image/png": "[encoded data removed]",
      "text/plain": [
       "<Figure size 1200x600 with 1 Axes>"
      ]
     },
     "metadata": {},
     "output_type": "display_data"
    }
   ],
   "source": [
    "silhouette = []\n",
    "for k in range(2, 8):\n",
    "    kmeans1 = KMeans(n_clusters=k, random_state=1).fit(X_s)\n",
    "    silhouette.append(metrics.silhouette_score(X_s, kmeans1.labels_))\n",
    "\n",
    "plt.plot(range(2, 8), silhouette, marker='s');\n",
    "plt.xlabel('$k$')\n",
    "plt.ylabel('$J(C_k)$');"
   ]
  },
  {
   "cell_type": "code",
   "execution_count": null,
   "id": "ceb23f5f",
   "metadata": {},
   "outputs": [],
   "source": [
    "# По графику метрики \"силуэт\" также видно что оптимальное количество кластеров равно 6"
   ]
  }
 ],
 "metadata": {
  "kernelspec": {
   "display_name": "Python 3 (ipykernel)",
   "language": "python",
   "name": "python3"
  },
  "language_info": {
   "codemirror_mode": {
    "name": "ipython",
    "version": 3
   },
   "file_extension": ".py",
   "mimetype": "text/x-python",
   "name": "python",
   "nbconvert_exporter": "python",
   "pygments_lexer": "ipython3",
   "version": "3.9.13"
  }
 },
 "nbformat": 4,
 "nbformat_minor": 5
}
