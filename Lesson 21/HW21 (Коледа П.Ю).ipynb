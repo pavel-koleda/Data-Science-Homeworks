{
 "cells": [
  {
   "cell_type": "markdown",
   "id": "f365abbc",
   "metadata": {},
   "source": [
    "Возьмите датасет с отключением клиентов от телефонной компании.\n",
    "\n",
    "Подготовьте данные для решения задачи.\n",
    "\n",
    "Решите задачу с помощью нейронной сети, используя слои Dense как мы делали на уроке.\n",
    "\n",
    "Ваша задача правильно написать “голову” сети и подобрать правильно loss функцию.\n",
    "\n",
    "Хорошего дня!\n"
   ]
  },
  {
   "cell_type": "code",
   "execution_count": 37,
   "id": "b292e5df",
   "metadata": {},
   "outputs": [],
   "source": [
    "import pandas as pd\n",
    "from matplotlib import pyplot as plt\n",
    "import seaborn as sns\n",
    "%matplotlib inline\n",
    "import numpy as np\n",
    "from sklearn.metrics import confusion_matrix, precision_score, \\\n",
    "              recall_score, f1_score, precision_recall_curve, roc_curve, roc_auc_score, \\\n",
    "              auc, mean_squared_error, accuracy_score\n",
    "import math\n",
    "plt.rcParams[\"figure.figsize\"] = (12,6)\n",
    "from sklearn.model_selection import cross_val_score"
   ]
  },
  {
   "cell_type": "code",
   "execution_count": null,
   "id": "55735852",
   "metadata": {},
   "outputs": [],
   "source": []
  },
  {
   "cell_type": "code",
   "execution_count": 38,
   "id": "6c1ffd78",
   "metadata": {},
   "outputs": [],
   "source": [
    "train_df = pd.read_csv('churn-bigml-80.csv')\n",
    "test_df = pd.read_csv('churn-bigml-20.csv')"
   ]
  },
  {
   "cell_type": "code",
   "execution_count": 39,
   "id": "b2715925",
   "metadata": {
    "scrolled": true
   },
   "outputs": [
    {
     "data": {
      "text/html": [
       "<div>\n",
       "<style scoped>\n",
       "    .dataframe tbody tr th:only-of-type {\n",
       "        vertical-align: middle;\n",
       "    }\n",
       "\n",
       "    .dataframe tbody tr th {\n",
       "        vertical-align: top;\n",
       "    }\n",
       "\n",
       "    .dataframe thead th {\n",
       "        text-align: right;\n",
       "    }\n",
       "</style>\n",
       "<table border=\"1\" class=\"dataframe\">\n",
       "  <thead>\n",
       "    <tr style=\"text-align: right;\">\n",
       "      <th></th>\n",
       "      <th>State</th>\n",
       "      <th>Account length</th>\n",
       "      <th>Area code</th>\n",
       "      <th>International plan</th>\n",
       "      <th>Voice mail plan</th>\n",
       "      <th>Number vmail messages</th>\n",
       "      <th>Total day minutes</th>\n",
       "      <th>Total day calls</th>\n",
       "      <th>Total day charge</th>\n",
       "      <th>Total eve minutes</th>\n",
       "      <th>Total eve calls</th>\n",
       "      <th>Total eve charge</th>\n",
       "      <th>Total night minutes</th>\n",
       "      <th>Total night calls</th>\n",
       "      <th>Total night charge</th>\n",
       "      <th>Total intl minutes</th>\n",
       "      <th>Total intl calls</th>\n",
       "      <th>Total intl charge</th>\n",
       "      <th>Customer service calls</th>\n",
       "      <th>Churn</th>\n",
       "    </tr>\n",
       "  </thead>\n",
       "  <tbody>\n",
       "    <tr>\n",
       "      <th>0</th>\n",
       "      <td>LA</td>\n",
       "      <td>117</td>\n",
       "      <td>408</td>\n",
       "      <td>No</td>\n",
       "      <td>No</td>\n",
       "      <td>0</td>\n",
       "      <td>184.5</td>\n",
       "      <td>97</td>\n",
       "      <td>31.37</td>\n",
       "      <td>351.6</td>\n",
       "      <td>80</td>\n",
       "      <td>29.89</td>\n",
       "      <td>215.8</td>\n",
       "      <td>90</td>\n",
       "      <td>9.71</td>\n",
       "      <td>8.7</td>\n",
       "      <td>4</td>\n",
       "      <td>2.35</td>\n",
       "      <td>1</td>\n",
       "      <td>False</td>\n",
       "    </tr>\n",
       "    <tr>\n",
       "      <th>1</th>\n",
       "      <td>IN</td>\n",
       "      <td>65</td>\n",
       "      <td>415</td>\n",
       "      <td>No</td>\n",
       "      <td>No</td>\n",
       "      <td>0</td>\n",
       "      <td>129.1</td>\n",
       "      <td>137</td>\n",
       "      <td>21.95</td>\n",
       "      <td>228.5</td>\n",
       "      <td>83</td>\n",
       "      <td>19.42</td>\n",
       "      <td>208.8</td>\n",
       "      <td>111</td>\n",
       "      <td>9.40</td>\n",
       "      <td>12.7</td>\n",
       "      <td>6</td>\n",
       "      <td>3.43</td>\n",
       "      <td>4</td>\n",
       "      <td>True</td>\n",
       "    </tr>\n",
       "    <tr>\n",
       "      <th>2</th>\n",
       "      <td>NY</td>\n",
       "      <td>161</td>\n",
       "      <td>415</td>\n",
       "      <td>No</td>\n",
       "      <td>No</td>\n",
       "      <td>0</td>\n",
       "      <td>332.9</td>\n",
       "      <td>67</td>\n",
       "      <td>56.59</td>\n",
       "      <td>317.8</td>\n",
       "      <td>97</td>\n",
       "      <td>27.01</td>\n",
       "      <td>160.6</td>\n",
       "      <td>128</td>\n",
       "      <td>7.23</td>\n",
       "      <td>5.4</td>\n",
       "      <td>9</td>\n",
       "      <td>1.46</td>\n",
       "      <td>4</td>\n",
       "      <td>True</td>\n",
       "    </tr>\n",
       "    <tr>\n",
       "      <th>3</th>\n",
       "      <td>SC</td>\n",
       "      <td>111</td>\n",
       "      <td>415</td>\n",
       "      <td>No</td>\n",
       "      <td>No</td>\n",
       "      <td>0</td>\n",
       "      <td>110.4</td>\n",
       "      <td>103</td>\n",
       "      <td>18.77</td>\n",
       "      <td>137.3</td>\n",
       "      <td>102</td>\n",
       "      <td>11.67</td>\n",
       "      <td>189.6</td>\n",
       "      <td>105</td>\n",
       "      <td>8.53</td>\n",
       "      <td>7.7</td>\n",
       "      <td>6</td>\n",
       "      <td>2.08</td>\n",
       "      <td>2</td>\n",
       "      <td>False</td>\n",
       "    </tr>\n",
       "    <tr>\n",
       "      <th>4</th>\n",
       "      <td>HI</td>\n",
       "      <td>49</td>\n",
       "      <td>510</td>\n",
       "      <td>No</td>\n",
       "      <td>No</td>\n",
       "      <td>0</td>\n",
       "      <td>119.3</td>\n",
       "      <td>117</td>\n",
       "      <td>20.28</td>\n",
       "      <td>215.1</td>\n",
       "      <td>109</td>\n",
       "      <td>18.28</td>\n",
       "      <td>178.7</td>\n",
       "      <td>90</td>\n",
       "      <td>8.04</td>\n",
       "      <td>11.1</td>\n",
       "      <td>1</td>\n",
       "      <td>3.00</td>\n",
       "      <td>1</td>\n",
       "      <td>False</td>\n",
       "    </tr>\n",
       "  </tbody>\n",
       "</table>\n",
       "</div>"
      ],
      "text/plain": [
       "  State  Account length  Area code International plan Voice mail plan  \\\n",
       "0    LA             117        408                 No              No   \n",
       "1    IN              65        415                 No              No   \n",
       "2    NY             161        415                 No              No   \n",
       "3    SC             111        415                 No              No   \n",
       "4    HI              49        510                 No              No   \n",
       "\n",
       "   Number vmail messages  Total day minutes  Total day calls  \\\n",
       "0                      0              184.5               97   \n",
       "1                      0              129.1              137   \n",
       "2                      0              332.9               67   \n",
       "3                      0              110.4              103   \n",
       "4                      0              119.3              117   \n",
       "\n",
       "   Total day charge  Total eve minutes  Total eve calls  Total eve charge  \\\n",
       "0             31.37              351.6               80             29.89   \n",
       "1             21.95              228.5               83             19.42   \n",
       "2             56.59              317.8               97             27.01   \n",
       "3             18.77              137.3              102             11.67   \n",
       "4             20.28              215.1              109             18.28   \n",
       "\n",
       "   Total night minutes  Total night calls  Total night charge  \\\n",
       "0                215.8                 90                9.71   \n",
       "1                208.8                111                9.40   \n",
       "2                160.6                128                7.23   \n",
       "3                189.6                105                8.53   \n",
       "4                178.7                 90                8.04   \n",
       "\n",
       "   Total intl minutes  Total intl calls  Total intl charge  \\\n",
       "0                 8.7                 4               2.35   \n",
       "1                12.7                 6               3.43   \n",
       "2                 5.4                 9               1.46   \n",
       "3                 7.7                 6               2.08   \n",
       "4                11.1                 1               3.00   \n",
       "\n",
       "   Customer service calls  Churn  \n",
       "0                       1  False  \n",
       "1                       4   True  \n",
       "2                       4   True  \n",
       "3                       2  False  \n",
       "4                       1  False  "
      ]
     },
     "execution_count": 39,
     "metadata": {},
     "output_type": "execute_result"
    }
   ],
   "source": [
    "test_df.head()"
   ]
  },
  {
   "cell_type": "code",
   "execution_count": 40,
   "id": "1f589049",
   "metadata": {},
   "outputs": [
    {
     "name": "stdout",
     "output_type": "stream",
     "text": [
      "<class 'pandas.core.frame.DataFrame'>\n",
      "RangeIndex: 667 entries, 0 to 666\n",
      "Data columns (total 20 columns):\n",
      " #   Column                  Non-Null Count  Dtype  \n",
      "---  ------                  --------------  -----  \n",
      " 0   State                   667 non-null    object \n",
      " 1   Account length          667 non-null    int64  \n",
      " 2   Area code               667 non-null    int64  \n",
      " 3   International plan      667 non-null    object \n",
      " 4   Voice mail plan         667 non-null    object \n",
      " 5   Number vmail messages   667 non-null    int64  \n",
      " 6   Total day minutes       667 non-null    float64\n",
      " 7   Total day calls         667 non-null    int64  \n",
      " 8   Total day charge        667 non-null    float64\n",
      " 9   Total eve minutes       667 non-null    float64\n",
      " 10  Total eve calls         667 non-null    int64  \n",
      " 11  Total eve charge        667 non-null    float64\n",
      " 12  Total night minutes     667 non-null    float64\n",
      " 13  Total night calls       667 non-null    int64  \n",
      " 14  Total night charge      667 non-null    float64\n",
      " 15  Total intl minutes      667 non-null    float64\n",
      " 16  Total intl calls        667 non-null    int64  \n",
      " 17  Total intl charge       667 non-null    float64\n",
      " 18  Customer service calls  667 non-null    int64  \n",
      " 19  Churn                   667 non-null    bool   \n",
      "dtypes: bool(1), float64(8), int64(8), object(3)\n",
      "memory usage: 99.8+ KB\n"
     ]
    }
   ],
   "source": [
    "test_df.info()"
   ]
  },
  {
   "cell_type": "code",
   "execution_count": 41,
   "id": "86317c54",
   "metadata": {},
   "outputs": [],
   "source": [
    "train_numerical_features = train_df.select_dtypes(include=['float64', 'int64'])\n",
    "test_numerical_features = train_df.select_dtypes(include=['float64', 'int64'])"
   ]
  },
  {
   "cell_type": "code",
   "execution_count": 42,
   "id": "755df30c",
   "metadata": {},
   "outputs": [],
   "source": [
    "# Сохранениv параметрs для центрирования и масштабирования\n",
    "mean_values = train_numerical_features.mean()\n",
    "min_values = train_numerical_features.min()\n",
    "max_values = train_numerical_features.max()\n",
    "# train_centered_data = train_numerical_features - train_numerical_features.mean()\n",
    "# test_centered_data = test_numerical_features - test_numerical_features.mean()"
   ]
  },
  {
   "cell_type": "code",
   "execution_count": 43,
   "id": "841b52d7",
   "metadata": {},
   "outputs": [],
   "source": [
    "# Выполним центрирование данных:\n",
    "train_centered_data = train_numerical_features - mean_values\n",
    "test_centered_data = test_numerical_features - mean_values"
   ]
  },
  {
   "cell_type": "code",
   "execution_count": 44,
   "id": "0b8d6d7b",
   "metadata": {},
   "outputs": [],
   "source": [
    "# Выполним нормализацию данных:\n",
    "train_df_norm = (train_centered_data - min_values) / (max_values - min_values)\n",
    "test_df_norm = (test_centered_data - min_values) / (max_values - min_values)"
   ]
  },
  {
   "cell_type": "code",
   "execution_count": 45,
   "id": "1f85a0ff",
   "metadata": {},
   "outputs": [],
   "source": [
    "# Замена числовых столбцов исходного набора данных на предобработанные значения\n",
    "train_df[train_numerical_features.columns] = train_df_norm\n",
    "test_df[test_numerical_features.columns] = test_df_norm\n"
   ]
  },
  {
   "cell_type": "code",
   "execution_count": 46,
   "id": "61f9a07d",
   "metadata": {},
   "outputs": [
    {
     "data": {
      "text/html": [
       "<div>\n",
       "<style scoped>\n",
       "    .dataframe tbody tr th:only-of-type {\n",
       "        vertical-align: middle;\n",
       "    }\n",
       "\n",
       "    .dataframe tbody tr th {\n",
       "        vertical-align: top;\n",
       "    }\n",
       "\n",
       "    .dataframe thead th {\n",
       "        text-align: right;\n",
       "    }\n",
       "</style>\n",
       "<table border=\"1\" class=\"dataframe\">\n",
       "  <thead>\n",
       "    <tr style=\"text-align: right;\">\n",
       "      <th></th>\n",
       "      <th>State</th>\n",
       "      <th>Account length</th>\n",
       "      <th>Area code</th>\n",
       "      <th>International plan</th>\n",
       "      <th>Voice mail plan</th>\n",
       "      <th>Number vmail messages</th>\n",
       "      <th>Total day minutes</th>\n",
       "      <th>Total day calls</th>\n",
       "      <th>Total day charge</th>\n",
       "      <th>Total eve minutes</th>\n",
       "      <th>Total eve calls</th>\n",
       "      <th>Total eve charge</th>\n",
       "      <th>Total night minutes</th>\n",
       "      <th>Total night calls</th>\n",
       "      <th>Total night charge</th>\n",
       "      <th>Total intl minutes</th>\n",
       "      <th>Total intl calls</th>\n",
       "      <th>Total intl charge</th>\n",
       "      <th>Customer service calls</th>\n",
       "      <th>Churn</th>\n",
       "    </tr>\n",
       "  </thead>\n",
       "  <tbody>\n",
       "    <tr>\n",
       "      <th>0</th>\n",
       "      <td>KS</td>\n",
       "      <td>0.109007</td>\n",
       "      <td>-4.219989</td>\n",
       "      <td>No</td>\n",
       "      <td>Yes</td>\n",
       "      <td>0.339565</td>\n",
       "      <td>0.244066</td>\n",
       "      <td>0.060561</td>\n",
       "      <td>0.244091</td>\n",
       "      <td>-0.008211</td>\n",
       "      <td>-0.006021</td>\n",
       "      <td>-0.008187</td>\n",
       "      <td>-0.000481</td>\n",
       "      <td>-0.316588</td>\n",
       "      <td>-0.000803</td>\n",
       "      <td>-0.011851</td>\n",
       "      <td>-0.073368</td>\n",
       "      <td>-0.011943</td>\n",
       "      <td>-0.062516</td>\n",
       "      <td>False</td>\n",
       "    </tr>\n",
       "    <tr>\n",
       "      <th>1</th>\n",
       "      <td>OH</td>\n",
       "      <td>0.022230</td>\n",
       "      <td>-4.219989</td>\n",
       "      <td>No</td>\n",
       "      <td>Yes</td>\n",
       "      <td>0.359565</td>\n",
       "      <td>-0.050974</td>\n",
       "      <td>0.141811</td>\n",
       "      <td>-0.051013</td>\n",
       "      <td>-0.013435</td>\n",
       "      <td>0.017508</td>\n",
       "      <td>-0.013364</td>\n",
       "      <td>0.027131</td>\n",
       "      <td>-0.226362</td>\n",
       "      <td>0.027045</td>\n",
       "      <td>0.173149</td>\n",
       "      <td>-0.073368</td>\n",
       "      <td>0.173243</td>\n",
       "      <td>-0.062516</td>\n",
       "      <td>False</td>\n",
       "    </tr>\n",
       "    <tr>\n",
       "      <th>2</th>\n",
       "      <td>NJ</td>\n",
       "      <td>0.146197</td>\n",
       "      <td>-4.219989</td>\n",
       "      <td>No</td>\n",
       "      <td>No</td>\n",
       "      <td>-0.160435</td>\n",
       "      <td>0.182207</td>\n",
       "      <td>0.085561</td>\n",
       "      <td>0.182220</td>\n",
       "      <td>-0.217724</td>\n",
       "      <td>0.058685</td>\n",
       "      <td>-0.217828</td>\n",
       "      <td>-0.234184</td>\n",
       "      <td>-0.218843</td>\n",
       "      <td>-0.234347</td>\n",
       "      <td>0.098149</td>\n",
       "      <td>0.026632</td>\n",
       "      <td>0.097317</td>\n",
       "      <td>-0.173627</td>\n",
       "      <td>False</td>\n",
       "    </tr>\n",
       "    <tr>\n",
       "      <th>3</th>\n",
       "      <td>OH</td>\n",
       "      <td>-0.072812</td>\n",
       "      <td>-4.288616</td>\n",
       "      <td>Yes</td>\n",
       "      <td>No</td>\n",
       "      <td>-0.160435</td>\n",
       "      <td>0.341843</td>\n",
       "      <td>-0.183189</td>\n",
       "      <td>0.341844</td>\n",
       "      <td>-0.380770</td>\n",
       "      <td>-0.070727</td>\n",
       "      <td>-0.380882</td>\n",
       "      <td>-0.136547</td>\n",
       "      <td>-0.331625</td>\n",
       "      <td>-0.136879</td>\n",
       "      <td>-0.181851</td>\n",
       "      <td>0.126632</td>\n",
       "      <td>-0.182313</td>\n",
       "      <td>0.048595</td>\n",
       "      <td>False</td>\n",
       "    </tr>\n",
       "    <tr>\n",
       "      <th>4</th>\n",
       "      <td>OK</td>\n",
       "      <td>-0.110002</td>\n",
       "      <td>-4.219989</td>\n",
       "      <td>Yes</td>\n",
       "      <td>No</td>\n",
       "      <td>-0.160435</td>\n",
       "      <td>-0.036436</td>\n",
       "      <td>0.079311</td>\n",
       "      <td>-0.036425</td>\n",
       "      <td>-0.143212</td>\n",
       "      <td>0.129273</td>\n",
       "      <td>-0.143095</td>\n",
       "      <td>-0.165013</td>\n",
       "      <td>-0.091024</td>\n",
       "      <td>-0.165360</td>\n",
       "      <td>-0.006851</td>\n",
       "      <td>-0.073368</td>\n",
       "      <td>-0.006387</td>\n",
       "      <td>0.159707</td>\n",
       "      <td>False</td>\n",
       "    </tr>\n",
       "    <tr>\n",
       "      <th>...</th>\n",
       "      <td>...</td>\n",
       "      <td>...</td>\n",
       "      <td>...</td>\n",
       "      <td>...</td>\n",
       "      <td>...</td>\n",
       "      <td>...</td>\n",
       "      <td>...</td>\n",
       "      <td>...</td>\n",
       "      <td>...</td>\n",
       "      <td>...</td>\n",
       "      <td>...</td>\n",
       "      <td>...</td>\n",
       "      <td>...</td>\n",
       "      <td>...</td>\n",
       "      <td>...</td>\n",
       "      <td>...</td>\n",
       "      <td>...</td>\n",
       "      <td>...</td>\n",
       "      <td>...</td>\n",
       "      <td>...</td>\n",
       "    </tr>\n",
       "    <tr>\n",
       "      <th>2661</th>\n",
       "      <td>SC</td>\n",
       "      <td>-0.093473</td>\n",
       "      <td>-4.219989</td>\n",
       "      <td>No</td>\n",
       "      <td>No</td>\n",
       "      <td>-0.160435</td>\n",
       "      <td>-0.127656</td>\n",
       "      <td>-0.014439</td>\n",
       "      <td>-0.127639</td>\n",
       "      <td>-0.029382</td>\n",
       "      <td>-0.188374</td>\n",
       "      <td>-0.029540</td>\n",
       "      <td>-0.066806</td>\n",
       "      <td>-0.038392</td>\n",
       "      <td>-0.067259</td>\n",
       "      <td>0.078149</td>\n",
       "      <td>0.026632</td>\n",
       "      <td>0.078798</td>\n",
       "      <td>0.048595</td>\n",
       "      <td>False</td>\n",
       "    </tr>\n",
       "    <tr>\n",
       "      <th>2662</th>\n",
       "      <td>AZ</td>\n",
       "      <td>0.373469</td>\n",
       "      <td>-4.219989</td>\n",
       "      <td>No</td>\n",
       "      <td>Yes</td>\n",
       "      <td>0.559565</td>\n",
       "      <td>-0.066367</td>\n",
       "      <td>-0.145689</td>\n",
       "      <td>-0.066439</td>\n",
       "      <td>0.041556</td>\n",
       "      <td>0.152802</td>\n",
       "      <td>0.041635</td>\n",
       "      <td>0.097441</td>\n",
       "      <td>-0.376738</td>\n",
       "      <td>0.097298</td>\n",
       "      <td>-0.016851</td>\n",
       "      <td>0.076632</td>\n",
       "      <td>-0.017498</td>\n",
       "      <td>0.048595</td>\n",
       "      <td>False</td>\n",
       "    </tr>\n",
       "    <tr>\n",
       "      <th>2663</th>\n",
       "      <td>WV</td>\n",
       "      <td>-0.138927</td>\n",
       "      <td>-4.219989</td>\n",
       "      <td>No</td>\n",
       "      <td>No</td>\n",
       "      <td>-0.160435</td>\n",
       "      <td>0.147145</td>\n",
       "      <td>-0.270689</td>\n",
       "      <td>0.147176</td>\n",
       "      <td>-0.129189</td>\n",
       "      <td>-0.264845</td>\n",
       "      <td>-0.129184</td>\n",
       "      <td>-0.152488</td>\n",
       "      <td>-0.075986</td>\n",
       "      <td>-0.152702</td>\n",
       "      <td>-0.031851</td>\n",
       "      <td>-0.023368</td>\n",
       "      <td>-0.032313</td>\n",
       "      <td>0.159707</td>\n",
       "      <td>False</td>\n",
       "    </tr>\n",
       "    <tr>\n",
       "      <th>2664</th>\n",
       "      <td>RI</td>\n",
       "      <td>-0.304217</td>\n",
       "      <td>-3.288616</td>\n",
       "      <td>No</td>\n",
       "      <td>No</td>\n",
       "      <td>-0.160435</td>\n",
       "      <td>0.003758</td>\n",
       "      <td>0.054311</td>\n",
       "      <td>0.003816</td>\n",
       "      <td>0.243096</td>\n",
       "      <td>-0.247198</td>\n",
       "      <td>0.243188</td>\n",
       "      <td>-0.150780</td>\n",
       "      <td>-0.316588</td>\n",
       "      <td>-0.150803</td>\n",
       "      <td>0.193149</td>\n",
       "      <td>0.076632</td>\n",
       "      <td>0.193613</td>\n",
       "      <td>0.048595</td>\n",
       "      <td>False</td>\n",
       "    </tr>\n",
       "    <tr>\n",
       "      <th>2665</th>\n",
       "      <td>TN</td>\n",
       "      <td>-0.114134</td>\n",
       "      <td>-4.219989</td>\n",
       "      <td>No</td>\n",
       "      <td>Yes</td>\n",
       "      <td>0.339565</td>\n",
       "      <td>0.156552</td>\n",
       "      <td>0.079311</td>\n",
       "      <td>0.156566</td>\n",
       "      <td>0.180132</td>\n",
       "      <td>-0.106021</td>\n",
       "      <td>0.180101</td>\n",
       "      <td>-0.009875</td>\n",
       "      <td>-0.421851</td>\n",
       "      <td>-0.010297</td>\n",
       "      <td>0.173149</td>\n",
       "      <td>-0.023368</td>\n",
       "      <td>0.173243</td>\n",
       "      <td>-0.173627</td>\n",
       "      <td>False</td>\n",
       "    </tr>\n",
       "  </tbody>\n",
       "</table>\n",
       "<p>2666 rows × 20 columns</p>\n",
       "</div>"
      ],
      "text/plain": [
       "     State  Account length  Area code International plan Voice mail plan  \\\n",
       "0       KS        0.109007  -4.219989                 No             Yes   \n",
       "1       OH        0.022230  -4.219989                 No             Yes   \n",
       "2       NJ        0.146197  -4.219989                 No              No   \n",
       "3       OH       -0.072812  -4.288616                Yes              No   \n",
       "4       OK       -0.110002  -4.219989                Yes              No   \n",
       "...    ...             ...        ...                ...             ...   \n",
       "2661    SC       -0.093473  -4.219989                 No              No   \n",
       "2662    AZ        0.373469  -4.219989                 No             Yes   \n",
       "2663    WV       -0.138927  -4.219989                 No              No   \n",
       "2664    RI       -0.304217  -3.288616                 No              No   \n",
       "2665    TN       -0.114134  -4.219989                 No             Yes   \n",
       "\n",
       "      Number vmail messages  Total day minutes  Total day calls  \\\n",
       "0                  0.339565           0.244066         0.060561   \n",
       "1                  0.359565          -0.050974         0.141811   \n",
       "2                 -0.160435           0.182207         0.085561   \n",
       "3                 -0.160435           0.341843        -0.183189   \n",
       "4                 -0.160435          -0.036436         0.079311   \n",
       "...                     ...                ...              ...   \n",
       "2661              -0.160435          -0.127656        -0.014439   \n",
       "2662               0.559565          -0.066367        -0.145689   \n",
       "2663              -0.160435           0.147145        -0.270689   \n",
       "2664              -0.160435           0.003758         0.054311   \n",
       "2665               0.339565           0.156552         0.079311   \n",
       "\n",
       "      Total day charge  Total eve minutes  Total eve calls  Total eve charge  \\\n",
       "0             0.244091          -0.008211        -0.006021         -0.008187   \n",
       "1            -0.051013          -0.013435         0.017508         -0.013364   \n",
       "2             0.182220          -0.217724         0.058685         -0.217828   \n",
       "3             0.341844          -0.380770        -0.070727         -0.380882   \n",
       "4            -0.036425          -0.143212         0.129273         -0.143095   \n",
       "...                ...                ...              ...               ...   \n",
       "2661         -0.127639          -0.029382        -0.188374         -0.029540   \n",
       "2662         -0.066439           0.041556         0.152802          0.041635   \n",
       "2663          0.147176          -0.129189        -0.264845         -0.129184   \n",
       "2664          0.003816           0.243096        -0.247198          0.243188   \n",
       "2665          0.156566           0.180132        -0.106021          0.180101   \n",
       "\n",
       "      Total night minutes  Total night calls  Total night charge  \\\n",
       "0               -0.000481          -0.316588           -0.000803   \n",
       "1                0.027131          -0.226362            0.027045   \n",
       "2               -0.234184          -0.218843           -0.234347   \n",
       "3               -0.136547          -0.331625           -0.136879   \n",
       "4               -0.165013          -0.091024           -0.165360   \n",
       "...                   ...                ...                 ...   \n",
       "2661            -0.066806          -0.038392           -0.067259   \n",
       "2662             0.097441          -0.376738            0.097298   \n",
       "2663            -0.152488          -0.075986           -0.152702   \n",
       "2664            -0.150780          -0.316588           -0.150803   \n",
       "2665            -0.009875          -0.421851           -0.010297   \n",
       "\n",
       "      Total intl minutes  Total intl calls  Total intl charge  \\\n",
       "0              -0.011851         -0.073368          -0.011943   \n",
       "1               0.173149         -0.073368           0.173243   \n",
       "2               0.098149          0.026632           0.097317   \n",
       "3              -0.181851          0.126632          -0.182313   \n",
       "4              -0.006851         -0.073368          -0.006387   \n",
       "...                  ...               ...                ...   \n",
       "2661            0.078149          0.026632           0.078798   \n",
       "2662           -0.016851          0.076632          -0.017498   \n",
       "2663           -0.031851         -0.023368          -0.032313   \n",
       "2664            0.193149          0.076632           0.193613   \n",
       "2665            0.173149         -0.023368           0.173243   \n",
       "\n",
       "      Customer service calls  Churn  \n",
       "0                  -0.062516  False  \n",
       "1                  -0.062516  False  \n",
       "2                  -0.173627  False  \n",
       "3                   0.048595  False  \n",
       "4                   0.159707  False  \n",
       "...                      ...    ...  \n",
       "2661                0.048595  False  \n",
       "2662                0.048595  False  \n",
       "2663                0.159707  False  \n",
       "2664                0.048595  False  \n",
       "2665               -0.173627  False  \n",
       "\n",
       "[2666 rows x 20 columns]"
      ]
     },
     "execution_count": 46,
     "metadata": {},
     "output_type": "execute_result"
    }
   ],
   "source": [
    "train_df"
   ]
  },
  {
   "cell_type": "code",
   "execution_count": 47,
   "id": "04d12081",
   "metadata": {},
   "outputs": [],
   "source": [
    "train_df['International plan'] = train_df['International plan'].map({'No':0, 'Yes':1})\n",
    "train_df['Voice mail plan'] = train_df['Voice mail plan'].map({'No':0, 'Yes':1})\n",
    "# train_df = train_df.drop(['Total day minutes', 'Total eve minutes','Total night minutes', 'Total intl minutes'], axis = 1)\n",
    "test_df['International plan'] = test_df['International plan'].map({'No':0, 'Yes':1})\n",
    "test_df['Voice mail plan'] = test_df['Voice mail plan'].map({'No':0, 'Yes':1})\n",
    "# test_df = test_df.drop(['Total day minutes', 'Total eve minutes','Total night minutes', 'Total intl minutes'], axis = 1)"
   ]
  },
  {
   "cell_type": "code",
   "execution_count": 48,
   "id": "d588f7ad",
   "metadata": {},
   "outputs": [],
   "source": [
    "X_train = train_df.drop(['State', 'Account length', 'Area code' , 'Churn'], axis = 1)\n",
    "Y_train = train_df['Churn'].astype(int)\n",
    "X_test = test_df.drop(['State', 'Account length', 'Area code' , 'Churn'], axis = 1)\n",
    "Y_test = test_df['Churn'].astype(int)"
   ]
  },
  {
   "cell_type": "code",
   "execution_count": 53,
   "id": "173b45e3",
   "metadata": {},
   "outputs": [
    {
     "data": {
      "text/plain": [
       "(2666, 16)"
      ]
     },
     "execution_count": 53,
     "metadata": {},
     "output_type": "execute_result"
    }
   ],
   "source": [
    "X_train.shape"
   ]
  },
  {
   "cell_type": "code",
   "execution_count": 277,
   "id": "146a4da1",
   "metadata": {},
   "outputs": [],
   "source": [
    "# Архитектура и модель\n",
    "from tensorflow.keras import models\n",
    "from tensorflow.keras import layers\n",
    "from tensorflow.keras import optimizers\n",
    "\n",
    "model = models.Sequential()\n",
    "\n",
    "model.add(layers.Dense(64, activation=\"relu\", input_shape = (16,)))\n",
    "model.add(layers.Dropout(0.5))\n",
    "model.add(layers.Dense(64, activation=\"relu\"))\n",
    "model.add(layers.Dropout(0.5))\n",
    "model.add(layers.Dense(1, activation=\"sigmoid\"))"
   ]
  },
  {
   "cell_type": "code",
   "execution_count": null,
   "id": "84796726",
   "metadata": {},
   "outputs": [],
   "source": []
  },
  {
   "cell_type": "code",
   "execution_count": 278,
   "id": "def6ec4c",
   "metadata": {},
   "outputs": [],
   "source": [
    "# Компиляция модели\n",
    "model.compile(optimizer=optimizers.Adam(learning_rate=0.001),\n",
    "              loss=\"binary_crossentropy\",\n",
    "              metrics=[\"accuracy\"])"
   ]
  },
  {
   "cell_type": "code",
   "execution_count": null,
   "id": "3838ded6",
   "metadata": {},
   "outputs": [],
   "source": []
  },
  {
   "cell_type": "code",
   "execution_count": 279,
   "id": "9226fb02",
   "metadata": {},
   "outputs": [
    {
     "name": "stdout",
     "output_type": "stream",
     "text": [
      "Model: \"sequential_29\"\n",
      "_________________________________________________________________\n",
      " Layer (type)                Output Shape              Param #   \n",
      "=================================================================\n",
      " dense_103 (Dense)           (None, 64)                1088      \n",
      "                                                                 \n",
      " dropout_20 (Dropout)        (None, 64)                0         \n",
      "                                                                 \n",
      " dense_104 (Dense)           (None, 64)                4160      \n",
      "                                                                 \n",
      " dropout_21 (Dropout)        (None, 64)                0         \n",
      "                                                                 \n",
      " dense_105 (Dense)           (None, 1)                 65        \n",
      "                                                                 \n",
      "=================================================================\n",
      "Total params: 5,313\n",
      "Trainable params: 5,313\n",
      "Non-trainable params: 0\n",
      "_________________________________________________________________\n"
     ]
    }
   ],
   "source": [
    "model.summary()"
   ]
  },
  {
   "cell_type": "code",
   "execution_count": 280,
   "id": "af0b2369",
   "metadata": {},
   "outputs": [
    {
     "name": "stdout",
     "output_type": "stream",
     "text": [
      "Epoch 1/10\n",
      "11/11 [==============================] - 1s 15ms/step - loss: 0.6846 - accuracy: 0.5551 - val_loss: 0.6154 - val_accuracy: 0.8576\n",
      "Epoch 2/10\n",
      "11/11 [==============================] - 0s 4ms/step - loss: 0.5877 - accuracy: 0.8402 - val_loss: 0.5293 - val_accuracy: 0.8576\n",
      "Epoch 3/10\n",
      "11/11 [==============================] - 0s 4ms/step - loss: 0.5115 - accuracy: 0.8545 - val_loss: 0.4669 - val_accuracy: 0.8576\n",
      "Epoch 4/10\n",
      "11/11 [==============================] - 0s 4ms/step - loss: 0.4627 - accuracy: 0.8545 - val_loss: 0.4300 - val_accuracy: 0.8576\n",
      "Epoch 5/10\n",
      "11/11 [==============================] - 0s 4ms/step - loss: 0.4346 - accuracy: 0.8545 - val_loss: 0.4162 - val_accuracy: 0.8576\n",
      "Epoch 6/10\n",
      "11/11 [==============================] - 0s 4ms/step - loss: 0.4118 - accuracy: 0.8545 - val_loss: 0.4139 - val_accuracy: 0.8576\n",
      "Epoch 7/10\n",
      "11/11 [==============================] - 0s 4ms/step - loss: 0.3950 - accuracy: 0.8545 - val_loss: 0.4144 - val_accuracy: 0.8576\n",
      "Epoch 8/10\n",
      "11/11 [==============================] - 0s 4ms/step - loss: 0.3832 - accuracy: 0.8548 - val_loss: 0.4162 - val_accuracy: 0.8576\n",
      "Epoch 9/10\n",
      "11/11 [==============================] - 0s 4ms/step - loss: 0.3750 - accuracy: 0.8545 - val_loss: 0.4190 - val_accuracy: 0.8576\n",
      "Epoch 10/10\n",
      "11/11 [==============================] - 0s 4ms/step - loss: 0.3677 - accuracy: 0.8571 - val_loss: 0.4237 - val_accuracy: 0.8561\n"
     ]
    }
   ],
   "source": [
    "history = model.fit(X_train, Y_train, validation_data = (X_test, Y_test), epochs=10, batch_size=256)"
   ]
  },
  {
   "cell_type": "code",
   "execution_count": 281,
   "id": "02060d46",
   "metadata": {},
   "outputs": [],
   "source": [
    "# Что не пробовал, но не получилось свести loss ниже "
   ]
  },
  {
   "cell_type": "code",
   "execution_count": null,
   "id": "a7928abe",
   "metadata": {},
   "outputs": [],
   "source": []
  },
  {
   "cell_type": "code",
   "execution_count": 282,
   "id": "dc187e5b",
   "metadata": {},
   "outputs": [
    {
     "data": {
      "image/png": "[encoded data removed]",
      "text/plain": [
       "<Figure size 1200x600 with 1 Axes>"
      ]
     },
     "metadata": {},
     "output_type": "display_data"
    },
    {
     "data": {
      "image/png": "[encoded data removed]",
      "text/plain": [
       "<Figure size 1200x600 with 1 Axes>"
      ]
     },
     "metadata": {},
     "output_type": "display_data"
    }
   ],
   "source": [
    "import matplotlib.pyplot as plt\n",
    "# графики\n",
    "acc = history.history['accuracy']\n",
    "val_acc = history.history['val_accuracy']\n",
    "loss = history.history['loss']\n",
    "val_loss = history.history['val_loss']\n",
    "\n",
    "epochs = range(1, len(acc)+1)\n",
    "plt.plot(epochs, acc, 'bo', label = 'Training acc')\n",
    "plt.plot(epochs, val_acc, 'b', label = 'Validation acc')\n",
    "plt.title('Training and Validation accuracy')\n",
    "plt.legend()\n",
    "\n",
    "plt.figure()\n",
    "\n",
    "plt.plot(epochs, loss, 'bo', label = 'Training loss')\n",
    "plt.plot(epochs, val_loss, 'b', label = 'Validation loss')\n",
    "plt.title('Training and Validation loss')\n",
    "plt.legend()\n",
    "\n",
    "plt.show()\n"
   ]
  },
  {
   "cell_type": "code",
   "execution_count": null,
   "id": "6582be83",
   "metadata": {},
   "outputs": [],
   "source": []
  },
  {
   "cell_type": "code",
   "execution_count": null,
   "id": "b85bb909",
   "metadata": {},
   "outputs": [],
   "source": []
  },
  {
   "cell_type": "code",
   "execution_count": null,
   "id": "36c46ad2",
   "metadata": {},
   "outputs": [],
   "source": []
  },
  {
   "cell_type": "code",
   "execution_count": null,
   "id": "fa2e6310",
   "metadata": {},
   "outputs": [],
   "source": [
    "#  Сравним с методами машинного обучения"
   ]
  },
  {
   "cell_type": "code",
   "execution_count": 254,
   "id": "23b4d7e8",
   "metadata": {},
   "outputs": [],
   "source": [
    "from sklearn.ensemble import GradientBoostingClassifier\n",
    "cl = GradientBoostingClassifier()"
   ]
  },
  {
   "cell_type": "code",
   "execution_count": 255,
   "id": "cf7e9d32",
   "metadata": {},
   "outputs": [
    {
     "data": {
      "text/plain": [
       "GradientBoostingClassifier()"
      ]
     },
     "execution_count": 255,
     "metadata": {},
     "output_type": "execute_result"
    }
   ],
   "source": [
    "cl.fit(X_train, Y_train)"
   ]
  },
  {
   "cell_type": "code",
   "execution_count": 256,
   "id": "4d0d1c37",
   "metadata": {},
   "outputs": [
    {
     "name": "stdout",
     "output_type": "stream",
     "text": [
      "model score: 0.792\n"
     ]
    }
   ],
   "source": [
    "print(\"model score: %.3f\" % cl.score(X_test, Y_test))"
   ]
  },
  {
   "cell_type": "code",
   "execution_count": 257,
   "id": "a92a92ae",
   "metadata": {},
   "outputs": [],
   "source": [
    "cl_pred = cl.predict(X_test)"
   ]
  },
  {
   "cell_type": "code",
   "execution_count": 258,
   "id": "39b1070d",
   "metadata": {},
   "outputs": [
    {
     "data": {
      "text/plain": [
       "array([[518,  54],\n",
       "       [ 85,  10]], dtype=int64)"
      ]
     },
     "execution_count": 258,
     "metadata": {},
     "output_type": "execute_result"
    }
   ],
   "source": [
    "confusion_matrix(Y_test, cl_pred)"
   ]
  },
  {
   "cell_type": "code",
   "execution_count": 259,
   "id": "1ddbb5dd",
   "metadata": {},
   "outputs": [
    {
     "data": {
      "text/plain": [
       "(0.15625, 0.10526315789473684, 0.12578616352201258, 0.5054287817445712)"
      ]
     },
     "execution_count": 259,
     "metadata": {},
     "output_type": "execute_result"
    }
   ],
   "source": [
    "precision_score(Y_test, cl_pred), recall_score(Y_test, cl_pred), f1_score(Y_test, cl_pred), roc_auc_score(Y_test, cl_pred)"
   ]
  },
  {
   "cell_type": "code",
   "execution_count": null,
   "id": "a19cc658",
   "metadata": {},
   "outputs": [],
   "source": []
  },
  {
   "cell_type": "code",
   "execution_count": 260,
   "id": "294c6e4c",
   "metadata": {},
   "outputs": [],
   "source": [
    "from sklearn.ensemble import RandomForestClassifier\n",
    "fcl = RandomForestClassifier(n_jobs = 5)"
   ]
  },
  {
   "cell_type": "code",
   "execution_count": 261,
   "id": "8e6eeb70",
   "metadata": {},
   "outputs": [
    {
     "data": {
      "text/plain": [
       "RandomForestClassifier(n_jobs=5)"
      ]
     },
     "execution_count": 261,
     "metadata": {},
     "output_type": "execute_result"
    }
   ],
   "source": [
    "fcl.fit(X_train, Y_train)"
   ]
  },
  {
   "cell_type": "code",
   "execution_count": 262,
   "id": "336fd810",
   "metadata": {},
   "outputs": [
    {
     "name": "stdout",
     "output_type": "stream",
     "text": [
      "model score: 0.775\n"
     ]
    }
   ],
   "source": [
    "print(\"model score: %.3f\" % fcl.score(X_test, Y_test))"
   ]
  },
  {
   "cell_type": "code",
   "execution_count": 263,
   "id": "b9018494",
   "metadata": {},
   "outputs": [],
   "source": [
    "fcl_pred = fcl.predict(X_test)"
   ]
  },
  {
   "cell_type": "code",
   "execution_count": 264,
   "id": "8a6b17e1",
   "metadata": {},
   "outputs": [
    {
     "data": {
      "text/plain": [
       "array([[507,  65],\n",
       "       [ 85,  10]], dtype=int64)"
      ]
     },
     "execution_count": 264,
     "metadata": {},
     "output_type": "execute_result"
    }
   ],
   "source": [
    "confusion_matrix(Y_test, fcl_pred)"
   ]
  },
  {
   "cell_type": "code",
   "execution_count": 265,
   "id": "21338565",
   "metadata": {},
   "outputs": [
    {
     "data": {
      "text/plain": [
       "(0.13333333333333333,\n",
       " 0.10526315789473684,\n",
       " 0.11764705882352941,\n",
       " 0.49581339712918654)"
      ]
     },
     "execution_count": 265,
     "metadata": {},
     "output_type": "execute_result"
    }
   ],
   "source": [
    "precision_score(Y_test, fcl_pred), recall_score(Y_test, fcl_pred), f1_score(Y_test, fcl_pred), roc_auc_score(Y_test, fcl_pred)"
   ]
  },
  {
   "cell_type": "code",
   "execution_count": null,
   "id": "a82a4cf8",
   "metadata": {},
   "outputs": [],
   "source": []
  }
 ],
 "metadata": {
  "kernelspec": {
   "display_name": "Python 3 (ipykernel)",
   "language": "python",
   "name": "python3"
  },
  "language_info": {
   "codemirror_mode": {
    "name": "ipython",
    "version": 3
   },
   "file_extension": ".py",
   "mimetype": "text/x-python",
   "name": "python",
   "nbconvert_exporter": "python",
   "pygments_lexer": "ipython3",
   "version": "3.9.13"
  }
 },
 "nbformat": 4,
 "nbformat_minor": 5
}
