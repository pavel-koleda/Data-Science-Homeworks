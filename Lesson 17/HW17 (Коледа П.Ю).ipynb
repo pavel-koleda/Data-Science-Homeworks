{
 "cells": [
  {
   "cell_type": "code",
   "execution_count": 1,
   "id": "b292e5df",
   "metadata": {},
   "outputs": [],
   "source": [
    "import pandas as pd\n",
    "from matplotlib import pyplot as plt\n",
    "import seaborn as sns\n",
    "%matplotlib inline\n",
    "import numpy as np\n",
    "from sklearn.metrics import confusion_matrix, precision_score, \\\n",
    "              recall_score, f1_score, precision_recall_curve, roc_curve, roc_auc_score, \\\n",
    "              auc, mean_squared_error, accuracy_score\n",
    "import math\n",
    "from sklearn import model_selection\n",
    "from sklearn.linear_model import LogisticRegression, SGDClassifier\n",
    "from sklearn.svm import SVC, LinearSVC\n",
    "from sklearn.tree import DecisionTreeClassifier\n",
    "from sklearn.datasets import fetch_openml\n",
    "from sklearn.compose import ColumnTransformer\n",
    "from sklearn.pipeline import Pipeline\n",
    "from sklearn.impute import SimpleImputer\n",
    "from sklearn.preprocessing import StandardScaler, OneHotEncoder\n",
    "from sklearn.model_selection import cross_val_score, cross_val_predict, cross_validate"
   ]
  },
  {
   "cell_type": "markdown",
   "id": "ce33f87f",
   "metadata": {},
   "source": [
    "# 1. Осмотр данных"
   ]
  },
  {
   "cell_type": "code",
   "execution_count": 2,
   "id": "5eadac01",
   "metadata": {},
   "outputs": [],
   "source": [
    "df = pd.read_csv('data.csv')"
   ]
  },
  {
   "cell_type": "code",
   "execution_count": 3,
   "id": "7de93439",
   "metadata": {},
   "outputs": [
    {
     "data": {
      "text/html": [
       "<div>\n",
       "<style scoped>\n",
       "    .dataframe tbody tr th:only-of-type {\n",
       "        vertical-align: middle;\n",
       "    }\n",
       "\n",
       "    .dataframe tbody tr th {\n",
       "        vertical-align: top;\n",
       "    }\n",
       "\n",
       "    .dataframe thead th {\n",
       "        text-align: right;\n",
       "    }\n",
       "</style>\n",
       "<table border=\"1\" class=\"dataframe\">\n",
       "  <thead>\n",
       "    <tr style=\"text-align: right;\">\n",
       "      <th></th>\n",
       "      <th>type_school</th>\n",
       "      <th>school_accreditation</th>\n",
       "      <th>gender</th>\n",
       "      <th>interest</th>\n",
       "      <th>residence</th>\n",
       "      <th>parent_age</th>\n",
       "      <th>parent_salary</th>\n",
       "      <th>house_area</th>\n",
       "      <th>average_grades</th>\n",
       "      <th>parent_was_in_college</th>\n",
       "      <th>in_college</th>\n",
       "    </tr>\n",
       "  </thead>\n",
       "  <tbody>\n",
       "    <tr>\n",
       "      <th>0</th>\n",
       "      <td>Academic</td>\n",
       "      <td>A</td>\n",
       "      <td>Male</td>\n",
       "      <td>Less Interested</td>\n",
       "      <td>Urban</td>\n",
       "      <td>56</td>\n",
       "      <td>6950000</td>\n",
       "      <td>83.0</td>\n",
       "      <td>84.09</td>\n",
       "      <td>False</td>\n",
       "      <td>True</td>\n",
       "    </tr>\n",
       "    <tr>\n",
       "      <th>1</th>\n",
       "      <td>Academic</td>\n",
       "      <td>A</td>\n",
       "      <td>Male</td>\n",
       "      <td>Less Interested</td>\n",
       "      <td>Urban</td>\n",
       "      <td>57</td>\n",
       "      <td>4410000</td>\n",
       "      <td>76.8</td>\n",
       "      <td>86.91</td>\n",
       "      <td>False</td>\n",
       "      <td>True</td>\n",
       "    </tr>\n",
       "    <tr>\n",
       "      <th>2</th>\n",
       "      <td>Academic</td>\n",
       "      <td>B</td>\n",
       "      <td>Female</td>\n",
       "      <td>Very Interested</td>\n",
       "      <td>Urban</td>\n",
       "      <td>50</td>\n",
       "      <td>6500000</td>\n",
       "      <td>80.6</td>\n",
       "      <td>87.43</td>\n",
       "      <td>False</td>\n",
       "      <td>True</td>\n",
       "    </tr>\n",
       "    <tr>\n",
       "      <th>3</th>\n",
       "      <td>Vocational</td>\n",
       "      <td>B</td>\n",
       "      <td>Male</td>\n",
       "      <td>Very Interested</td>\n",
       "      <td>Rural</td>\n",
       "      <td>49</td>\n",
       "      <td>6600000</td>\n",
       "      <td>78.2</td>\n",
       "      <td>82.12</td>\n",
       "      <td>True</td>\n",
       "      <td>True</td>\n",
       "    </tr>\n",
       "    <tr>\n",
       "      <th>4</th>\n",
       "      <td>Academic</td>\n",
       "      <td>A</td>\n",
       "      <td>Female</td>\n",
       "      <td>Very Interested</td>\n",
       "      <td>Urban</td>\n",
       "      <td>57</td>\n",
       "      <td>5250000</td>\n",
       "      <td>75.1</td>\n",
       "      <td>86.79</td>\n",
       "      <td>False</td>\n",
       "      <td>False</td>\n",
       "    </tr>\n",
       "  </tbody>\n",
       "</table>\n",
       "</div>"
      ],
      "text/plain": [
       "  type_school school_accreditation  gender         interest residence  \\\n",
       "0    Academic                    A    Male  Less Interested     Urban   \n",
       "1    Academic                    A    Male  Less Interested     Urban   \n",
       "2    Academic                    B  Female  Very Interested     Urban   \n",
       "3  Vocational                    B    Male  Very Interested     Rural   \n",
       "4    Academic                    A  Female  Very Interested     Urban   \n",
       "\n",
       "   parent_age  parent_salary  house_area  average_grades  \\\n",
       "0          56        6950000        83.0           84.09   \n",
       "1          57        4410000        76.8           86.91   \n",
       "2          50        6500000        80.6           87.43   \n",
       "3          49        6600000        78.2           82.12   \n",
       "4          57        5250000        75.1           86.79   \n",
       "\n",
       "   parent_was_in_college  in_college  \n",
       "0                  False        True  \n",
       "1                  False        True  \n",
       "2                  False        True  \n",
       "3                   True        True  \n",
       "4                  False       False  "
      ]
     },
     "execution_count": 3,
     "metadata": {},
     "output_type": "execute_result"
    }
   ],
   "source": [
    "df.head()"
   ]
  },
  {
   "cell_type": "code",
   "execution_count": 4,
   "id": "5a61efa1",
   "metadata": {
    "scrolled": true
   },
   "outputs": [
    {
     "data": {
      "text/plain": [
       "Academic      609\n",
       "Vocational    391\n",
       "Name: type_school, dtype: int64"
      ]
     },
     "execution_count": 4,
     "metadata": {},
     "output_type": "execute_result"
    }
   ],
   "source": [
    "df['type_school'].value_counts()"
   ]
  },
  {
   "cell_type": "code",
   "execution_count": 5,
   "id": "32471a9f",
   "metadata": {},
   "outputs": [],
   "source": [
    "# Видим что пропущенных значений нет, также есть числовые, категориальные и бинарные данные. \n",
    "# Причем думаю что если целевую переменную (in_college) можно преобразовать в 0 и 1, то переменную \"parent_was_in_college\"\n",
    "# нужно преобразовывать категориально"
   ]
  },
  {
   "cell_type": "code",
   "execution_count": 6,
   "id": "a6925085",
   "metadata": {},
   "outputs": [
    {
     "data": {
      "image/png": "[encoded data removed]",
      "text/plain": [
       "<Figure size 640x480 with 4 Axes>"
      ]
     },
     "metadata": {},
     "output_type": "display_data"
    }
   ],
   "source": [
    "df.hist();"
   ]
  },
  {
   "cell_type": "code",
   "execution_count": null,
   "id": "5a42ccc6",
   "metadata": {},
   "outputs": [],
   "source": []
  },
  {
   "cell_type": "code",
   "execution_count": null,
   "id": "4882051a",
   "metadata": {},
   "outputs": [],
   "source": []
  },
  {
   "cell_type": "markdown",
   "id": "3e7846f5",
   "metadata": {},
   "source": [
    "# 2. Создание пайплайна для предобработки"
   ]
  },
  {
   "cell_type": "code",
   "execution_count": 7,
   "id": "ddfda6ad",
   "metadata": {},
   "outputs": [],
   "source": [
    "# Target variable extraction\n",
    "x = df.drop(['in_college'], axis = 1)\n",
    "y = df['in_college'].astype(int)"
   ]
  },
  {
   "cell_type": "code",
   "execution_count": 12,
   "id": "b3e6d27e",
   "metadata": {},
   "outputs": [],
   "source": [
    "# Create lists of numeric and categorical features  \n",
    "numeric_features = x.select_dtypes(include=['int64', 'float64']).columns\n",
    "categorical_features = x.select_dtypes(include=['object', 'bool']).columns"
   ]
  },
  {
   "cell_type": "code",
   "execution_count": 9,
   "id": "c16f5822",
   "metadata": {},
   "outputs": [
    {
     "data": {
      "text/plain": [
       "(Index(['parent_age', 'parent_salary', 'house_area', 'average_grades'], dtype='object'),\n",
       " Index(['type_school', 'school_accreditation', 'gender', 'interest',\n",
       "        'residence', 'parent_was_in_college'],\n",
       "       dtype='object'))"
      ]
     },
     "execution_count": 9,
     "metadata": {},
     "output_type": "execute_result"
    }
   ],
   "source": [
    "numeric_features, categorical_features"
   ]
  },
  {
   "cell_type": "code",
   "execution_count": 10,
   "id": "2cb1abff",
   "metadata": {},
   "outputs": [],
   "source": [
    "X_train, X_test, y_train, y_test = model_selection.train_test_split(x, y, random_state=42)"
   ]
  },
  {
   "cell_type": "code",
   "execution_count": 11,
   "id": "b220748e",
   "metadata": {},
   "outputs": [],
   "source": [
    "# Create a numeric and categorical transformer to perform preprocessing steps\n",
    "numeric_transformer = Pipeline(steps=[\n",
    "    ('imputer', SimpleImputer(strategy='median')),\n",
    "    ('scaler', StandardScaler())])\n",
    "\n",
    "categorical_transformer = Pipeline(steps=[\n",
    "    ('imputer', SimpleImputer(strategy='constant', fill_value='missing')),\n",
    "    ('onehot', OneHotEncoder(handle_unknown='ignore'))])\n"
   ]
  },
  {
   "cell_type": "code",
   "execution_count": 12,
   "id": "bb3d716f",
   "metadata": {},
   "outputs": [],
   "source": [
    "# Use the ColumnTransformer to apply to the correct features\n",
    "preprocessor = ColumnTransformer(\n",
    "    transformers=[\n",
    "        ('num', numeric_transformer, numeric_features),\n",
    "        ('cat', categorical_transformer, categorical_features)])"
   ]
  },
  {
   "cell_type": "code",
   "execution_count": null,
   "id": "13e9142f",
   "metadata": {},
   "outputs": [],
   "source": []
  },
  {
   "cell_type": "code",
   "execution_count": null,
   "id": "46987899",
   "metadata": {},
   "outputs": [],
   "source": []
  },
  {
   "cell_type": "markdown",
   "id": "cfb329bd",
   "metadata": {},
   "source": [
    "# 3. Решение задачи классификации"
   ]
  },
  {
   "cell_type": "markdown",
   "id": "4f1a6a14",
   "metadata": {},
   "source": [
    "### 3.1 Методом логистической регрессии"
   ]
  },
  {
   "cell_type": "code",
   "execution_count": 13,
   "id": "6529185d",
   "metadata": {},
   "outputs": [],
   "source": [
    "# Append regressor to the preprocessor\n",
    "lr = Pipeline(steps=[('preprocessor', preprocessor),\n",
    "                      ('regressor', LogisticRegression())])"
   ]
  },
  {
   "cell_type": "code",
   "execution_count": 14,
   "id": "1e0063b9",
   "metadata": {},
   "outputs": [
    {
     "data": {
      "text/plain": [
       "{'fit_time': array([0.02393532, 0.02194452, 0.02197027, 0.01293182, 0.01498818]),\n",
       " 'score_time': array([0.00698209, 0.00398588, 0.0039897 , 0.00302124, 0.00495982]),\n",
       " 'test_score': array([0.80666667, 0.9       , 0.89333333, 0.86      , 0.80666667])}"
      ]
     },
     "execution_count": 14,
     "metadata": {},
     "output_type": "execute_result"
    }
   ],
   "source": [
    "cross_validate(lr, X_train, y_train)"
   ]
  },
  {
   "cell_type": "code",
   "execution_count": 15,
   "id": "db07e716",
   "metadata": {},
   "outputs": [
    {
     "data": {
      "text/plain": [
       "array([0.9034495 , 0.96426031, 0.95003556, 0.93154339, 0.92763158])"
      ]
     },
     "execution_count": 15,
     "metadata": {},
     "output_type": "execute_result"
    }
   ],
   "source": [
    "lr_score = cross_val_score(lr, X_train, y_train, cv=5, scoring='roc_auc')\n",
    "lr_score"
   ]
  },
  {
   "cell_type": "code",
   "execution_count": 16,
   "id": "6f19acaf",
   "metadata": {},
   "outputs": [
    {
     "data": {
      "text/plain": [
       "(0.9353840682788052, 0.02070348869470884)"
      ]
     },
     "execution_count": 16,
     "metadata": {},
     "output_type": "execute_result"
    }
   ],
   "source": [
    "lr_score.mean(), lr_score.std()"
   ]
  },
  {
   "cell_type": "code",
   "execution_count": 17,
   "id": "63d617a4",
   "metadata": {
    "scrolled": true
   },
   "outputs": [
    {
     "name": "stdout",
     "output_type": "stream",
     "text": [
      "model score: 0.856\n"
     ]
    }
   ],
   "source": [
    "# Fit the complete pipeline\n",
    "lr.fit(X_train, y_train)\n",
    "print(\"model score: %.3f\" % lr.score(X_test, y_test))"
   ]
  },
  {
   "cell_type": "markdown",
   "id": "d1a96349",
   "metadata": {},
   "source": [
    "### 3.2 Методом линейной классификации (Стохастический поиск)"
   ]
  },
  {
   "cell_type": "code",
   "execution_count": 18,
   "id": "839b678c",
   "metadata": {},
   "outputs": [],
   "source": [
    "SGDclf = Pipeline(steps=[('preprocessor', preprocessor),\n",
    "                      ('regressor', SGDClassifier())])"
   ]
  },
  {
   "cell_type": "code",
   "execution_count": 19,
   "id": "2e0da082",
   "metadata": {},
   "outputs": [
    {
     "data": {
      "text/plain": [
       "{'fit_time': array([0.01000142, 0.01000404, 0.00798297, 0.00898075, 0.00897956]),\n",
       " 'score_time': array([0.00395989, 0.00299239, 0.00398469, 0.00295949, 0.00398922]),\n",
       " 'test_score': array([0.78666667, 0.86666667, 0.9       , 0.78666667, 0.80666667])}"
      ]
     },
     "execution_count": 19,
     "metadata": {},
     "output_type": "execute_result"
    }
   ],
   "source": [
    "cross_validate(SGDclf, X_train, y_train)"
   ]
  },
  {
   "cell_type": "code",
   "execution_count": 20,
   "id": "efd59704",
   "metadata": {},
   "outputs": [
    {
     "data": {
      "text/plain": [
       "array([0.88815789, 0.95590327, 0.94576814, 0.91678521, 0.91056188])"
      ]
     },
     "execution_count": 20,
     "metadata": {},
     "output_type": "execute_result"
    }
   ],
   "source": [
    "SGDclf_score = cross_val_score(SGDclf, X_train, y_train, cv=5, scoring='roc_auc')\n",
    "SGDclf_score"
   ]
  },
  {
   "cell_type": "code",
   "execution_count": 21,
   "id": "23df9768",
   "metadata": {},
   "outputs": [
    {
     "data": {
      "text/plain": [
       "(0.9234352773826459, 0.02452496216500272)"
      ]
     },
     "execution_count": 21,
     "metadata": {},
     "output_type": "execute_result"
    }
   ],
   "source": [
    "SGDclf_score.mean(), SGDclf_score.std()"
   ]
  },
  {
   "cell_type": "code",
   "execution_count": 22,
   "id": "f468ca83",
   "metadata": {},
   "outputs": [
    {
     "name": "stdout",
     "output_type": "stream",
     "text": [
      "model score: 0.836\n"
     ]
    }
   ],
   "source": [
    "SGDclf.fit(X_train, y_train)\n",
    "print(\"model score: %.3f\" % SGDclf.score(X_test, y_test))"
   ]
  },
  {
   "cell_type": "markdown",
   "id": "72b971da",
   "metadata": {},
   "source": [
    "### 3.3 Деревом решений"
   ]
  },
  {
   "cell_type": "code",
   "execution_count": 23,
   "id": "fb8a654d",
   "metadata": {},
   "outputs": [],
   "source": [
    "Tree_clf = Pipeline(steps=[('preprocessor', preprocessor),\n",
    "                      ('regressor', DecisionTreeClassifier())])"
   ]
  },
  {
   "cell_type": "code",
   "execution_count": 24,
   "id": "3c38f279",
   "metadata": {},
   "outputs": [
    {
     "data": {
      "text/plain": [
       "{'fit_time': array([0.0099721 , 0.00899005, 0.00898147, 0.00897694, 0.00798273]),\n",
       " 'score_time': array([0.00398827, 0.00397515, 0.00398946, 0.00398374, 0.00398397]),\n",
       " 'test_score': array([0.78      , 0.82      , 0.85333333, 0.84      , 0.8       ])}"
      ]
     },
     "execution_count": 24,
     "metadata": {},
     "output_type": "execute_result"
    }
   ],
   "source": [
    "cross_validate(Tree_clf, X_train, y_train)"
   ]
  },
  {
   "cell_type": "code",
   "execution_count": 25,
   "id": "be99e79f",
   "metadata": {},
   "outputs": [
    {
     "data": {
      "text/plain": [
       "array([0.76066856, 0.82734708, 0.8598862 , 0.82681366, 0.80618777])"
      ]
     },
     "execution_count": 25,
     "metadata": {},
     "output_type": "execute_result"
    }
   ],
   "source": [
    "Tree_clf_score = cross_val_score(Tree_clf, X_train, y_train, cv=5, scoring='roc_auc')\n",
    "Tree_clf_score"
   ]
  },
  {
   "cell_type": "code",
   "execution_count": 26,
   "id": "431a1cc4",
   "metadata": {},
   "outputs": [
    {
     "data": {
      "text/plain": [
       "(0.8161806543385491, 0.03264774056242014)"
      ]
     },
     "execution_count": 26,
     "metadata": {},
     "output_type": "execute_result"
    }
   ],
   "source": [
    "Tree_clf_score.mean(), Tree_clf_score.std()"
   ]
  },
  {
   "cell_type": "code",
   "execution_count": 27,
   "id": "6fee00a4",
   "metadata": {},
   "outputs": [
    {
     "name": "stdout",
     "output_type": "stream",
     "text": [
      "model score: 0.864\n"
     ]
    }
   ],
   "source": [
    "Tree_clf.fit(X_train, y_train)\n",
    "print(\"model score: %.3f\" % Tree_clf.score(X_test, y_test))"
   ]
  },
  {
   "cell_type": "markdown",
   "id": "a793e2c2",
   "metadata": {},
   "source": [
    "### 3.4 Методом опорных векторов"
   ]
  },
  {
   "cell_type": "code",
   "execution_count": 28,
   "id": "f1fe30f7",
   "metadata": {},
   "outputs": [],
   "source": [
    "SVM_clf = Pipeline(steps=[('preprocessor', preprocessor),\n",
    "                      ('regressor', LinearSVC())])"
   ]
  },
  {
   "cell_type": "code",
   "execution_count": 29,
   "id": "f76ccf39",
   "metadata": {},
   "outputs": [
    {
     "data": {
      "text/plain": [
       "{'fit_time': array([0.01495957, 0.01495957, 0.01296616, 0.01297235, 0.01496673]),\n",
       " 'score_time': array([0.00399017, 0.00398922, 0.00302339, 0.00398707, 0.00298691]),\n",
       " 'test_score': array([0.79333333, 0.89333333, 0.90666667, 0.85333333, 0.79333333])}"
      ]
     },
     "execution_count": 29,
     "metadata": {},
     "output_type": "execute_result"
    }
   ],
   "source": [
    "cross_validate(SVM_clf, X_train, y_train)"
   ]
  },
  {
   "cell_type": "code",
   "execution_count": 30,
   "id": "0e5bb855",
   "metadata": {},
   "outputs": [
    {
     "data": {
      "text/plain": [
       "array([0.9034495 , 0.96426031, 0.95003556, 0.93154339, 0.92763158])"
      ]
     },
     "execution_count": 30,
     "metadata": {},
     "output_type": "execute_result"
    }
   ],
   "source": [
    "SVM_clf_score = cross_val_score(lr, X_train, y_train, cv=5, scoring='roc_auc')\n",
    "SVM_clf_score"
   ]
  },
  {
   "cell_type": "code",
   "execution_count": 31,
   "id": "81a94854",
   "metadata": {},
   "outputs": [
    {
     "data": {
      "text/plain": [
       "(0.9353840682788052, 0.02070348869470884)"
      ]
     },
     "execution_count": 31,
     "metadata": {},
     "output_type": "execute_result"
    }
   ],
   "source": [
    "SVM_clf_score.mean(), SVM_clf_score.std()"
   ]
  },
  {
   "cell_type": "code",
   "execution_count": 32,
   "id": "4857bd65",
   "metadata": {},
   "outputs": [
    {
     "name": "stdout",
     "output_type": "stream",
     "text": [
      "model score: 0.860\n"
     ]
    }
   ],
   "source": [
    "SVM_clf.fit(X_train, y_train)\n",
    "print(\"model score: %.3f\" % SVM_clf.score(X_test, y_test))"
   ]
  },
  {
   "cell_type": "code",
   "execution_count": null,
   "id": "0af0bbc2",
   "metadata": {},
   "outputs": [],
   "source": []
  },
  {
   "cell_type": "markdown",
   "id": "1e7ad8d4",
   "metadata": {},
   "source": [
    "# 4. Cравним полученные в каждом решении метрики между собой"
   ]
  },
  {
   "cell_type": "code",
   "execution_count": 33,
   "id": "93a5e499",
   "metadata": {},
   "outputs": [],
   "source": [
    "# 4.1 Логистическая регрессия"
   ]
  },
  {
   "cell_type": "code",
   "execution_count": 34,
   "id": "63a94fb2",
   "metadata": {},
   "outputs": [],
   "source": [
    "lr_pred = lr.predict(X_test)"
   ]
  },
  {
   "cell_type": "code",
   "execution_count": 35,
   "id": "b2c868ea",
   "metadata": {
    "scrolled": true
   },
   "outputs": [
    {
     "data": {
      "text/plain": [
       "array([[109,  21],\n",
       "       [ 15, 105]], dtype=int64)"
      ]
     },
     "execution_count": 35,
     "metadata": {},
     "output_type": "execute_result"
    }
   ],
   "source": [
    "confusion_matrix(y_test, lr_pred)"
   ]
  },
  {
   "cell_type": "code",
   "execution_count": 36,
   "id": "7b13ac30",
   "metadata": {},
   "outputs": [
    {
     "data": {
      "text/plain": [
       "(0.8333333333333334, 0.875, 0.8536585365853658, 0.8567307692307692)"
      ]
     },
     "execution_count": 36,
     "metadata": {},
     "output_type": "execute_result"
    }
   ],
   "source": [
    "precision_score(y_test, lr_pred), recall_score(y_test, lr_pred), f1_score(y_test, lr_pred), roc_auc_score(y_test, lr_pred)"
   ]
  },
  {
   "cell_type": "code",
   "execution_count": null,
   "id": "b6c731e0",
   "metadata": {},
   "outputs": [],
   "source": []
  },
  {
   "cell_type": "code",
   "execution_count": 37,
   "id": "399020fe",
   "metadata": {},
   "outputs": [],
   "source": [
    "# 4.2 Линейная классификация (Стохастический поиск)"
   ]
  },
  {
   "cell_type": "code",
   "execution_count": 38,
   "id": "72b454a4",
   "metadata": {},
   "outputs": [],
   "source": [
    "SGD_pred = SGDclf.predict(X_test)"
   ]
  },
  {
   "cell_type": "code",
   "execution_count": 39,
   "id": "346f1f32",
   "metadata": {},
   "outputs": [
    {
     "data": {
      "text/plain": [
       "array([[114,  16],\n",
       "       [ 25,  95]], dtype=int64)"
      ]
     },
     "execution_count": 39,
     "metadata": {},
     "output_type": "execute_result"
    }
   ],
   "source": [
    "confusion_matrix(y_test, SGD_pred)"
   ]
  },
  {
   "cell_type": "code",
   "execution_count": 40,
   "id": "85c891fe",
   "metadata": {},
   "outputs": [
    {
     "data": {
      "text/plain": [
       "(0.8558558558558559,\n",
       " 0.7916666666666666,\n",
       " 0.8225108225108225,\n",
       " 0.8342948717948717)"
      ]
     },
     "execution_count": 40,
     "metadata": {},
     "output_type": "execute_result"
    }
   ],
   "source": [
    "precision_score(y_test, SGD_pred), recall_score(y_test, SGD_pred), f1_score(y_test, SGD_pred), roc_auc_score(y_test, SGD_pred)"
   ]
  },
  {
   "cell_type": "code",
   "execution_count": null,
   "id": "1511a80a",
   "metadata": {},
   "outputs": [],
   "source": []
  },
  {
   "cell_type": "code",
   "execution_count": 41,
   "id": "d36409b5",
   "metadata": {},
   "outputs": [],
   "source": [
    "# 4.3 Дерево решений"
   ]
  },
  {
   "cell_type": "code",
   "execution_count": 42,
   "id": "c2fb5c09",
   "metadata": {},
   "outputs": [],
   "source": [
    "Tree_pred = Tree_clf.predict(X_test)"
   ]
  },
  {
   "cell_type": "code",
   "execution_count": 43,
   "id": "cf8a4108",
   "metadata": {},
   "outputs": [
    {
     "data": {
      "text/plain": [
       "array([[115,  15],\n",
       "       [ 19, 101]], dtype=int64)"
      ]
     },
     "execution_count": 43,
     "metadata": {},
     "output_type": "execute_result"
    }
   ],
   "source": [
    "confusion_matrix(y_test, Tree_pred)"
   ]
  },
  {
   "cell_type": "code",
   "execution_count": 44,
   "id": "3449849e",
   "metadata": {
    "scrolled": false
   },
   "outputs": [
    {
     "data": {
      "text/plain": [
       "(0.8706896551724138,\n",
       " 0.8416666666666667,\n",
       " 0.8559322033898306,\n",
       " 0.8631410256410257)"
      ]
     },
     "execution_count": 44,
     "metadata": {},
     "output_type": "execute_result"
    }
   ],
   "source": [
    "precision_score(y_test, Tree_pred), recall_score(y_test, Tree_pred), f1_score(y_test, Tree_pred), roc_auc_score(y_test, Tree_pred)"
   ]
  },
  {
   "cell_type": "code",
   "execution_count": null,
   "id": "062f6e47",
   "metadata": {},
   "outputs": [],
   "source": []
  },
  {
   "cell_type": "code",
   "execution_count": 45,
   "id": "2eda91db",
   "metadata": {},
   "outputs": [],
   "source": [
    "# 4.4 Метод опорных векторов"
   ]
  },
  {
   "cell_type": "code",
   "execution_count": 46,
   "id": "a0e31d7e",
   "metadata": {},
   "outputs": [],
   "source": [
    "SVM_pred = SVM_clf.predict(X_test)"
   ]
  },
  {
   "cell_type": "code",
   "execution_count": 47,
   "id": "94807a7e",
   "metadata": {},
   "outputs": [
    {
     "data": {
      "text/plain": [
       "array([[109,  21],\n",
       "       [ 14, 106]], dtype=int64)"
      ]
     },
     "execution_count": 47,
     "metadata": {},
     "output_type": "execute_result"
    }
   ],
   "source": [
    "confusion_matrix(y_test, SVM_pred)"
   ]
  },
  {
   "cell_type": "code",
   "execution_count": 48,
   "id": "d670f9d6",
   "metadata": {
    "scrolled": true
   },
   "outputs": [
    {
     "data": {
      "text/plain": [
       "(0.8346456692913385, 0.8833333333333333, 0.8582995951417004, 0.860897435897436)"
      ]
     },
     "execution_count": 48,
     "metadata": {},
     "output_type": "execute_result"
    }
   ],
   "source": [
    "precision_score(y_test, SVM_pred), recall_score(y_test, SVM_pred), f1_score(y_test, SVM_pred), roc_auc_score(y_test, SVM_pred)"
   ]
  },
  {
   "cell_type": "code",
   "execution_count": null,
   "id": "87e765d9",
   "metadata": {},
   "outputs": [],
   "source": []
  },
  {
   "cell_type": "code",
   "execution_count": 49,
   "id": "9118834e",
   "metadata": {},
   "outputs": [],
   "source": [
    "# В целом все модели отработали хорошо, результаты примерно одинаковые."
   ]
  },
  {
   "cell_type": "code",
   "execution_count": null,
   "id": "14e71317",
   "metadata": {},
   "outputs": [],
   "source": []
  },
  {
   "cell_type": "markdown",
   "id": "a204b312",
   "metadata": {},
   "source": [
    "# 5. GridSearch для поиска оптимальных гиперпараметров, перечисленных выше алгоритмов."
   ]
  },
  {
   "cell_type": "code",
   "execution_count": 52,
   "id": "dd9e9e71",
   "metadata": {},
   "outputs": [],
   "source": [
    "from sklearn.model_selection import GridSearchCV"
   ]
  },
  {
   "cell_type": "markdown",
   "id": "009f517e",
   "metadata": {},
   "source": [
    "### 5.1 Поиск для логистической регрессии"
   ]
  },
  {
   "cell_type": "code",
   "execution_count": 65,
   "id": "94177861",
   "metadata": {},
   "outputs": [],
   "source": [
    "lr_params = {\"regressor__C\": [0.01, 0.1, 1, 10], \"regressor__penalty\": [\"l1\", \"l2\"], \n",
    "             \"regressor__solver\": [\"liblinear\"]}"
   ]
  },
  {
   "cell_type": "code",
   "execution_count": 66,
   "id": "28915d9c",
   "metadata": {},
   "outputs": [],
   "source": [
    "lr_grid = GridSearchCV(lr, lr_params, cv=5, verbose=True, scoring='roc_auc' )"
   ]
  },
  {
   "cell_type": "code",
   "execution_count": 67,
   "id": "9aa2ec2f",
   "metadata": {
    "collapsed": true
   },
   "outputs": [
    {
     "name": "stdout",
     "output_type": "stream",
     "text": [
      "Fitting 5 folds for each of 8 candidates, totalling 40 fits\n"
     ]
    },
    {
     "data": {
      "text/plain": [
       "GridSearchCV(cv=5,\n",
       "             estimator=Pipeline(steps=[('preprocessor',\n",
       "                                        ColumnTransformer(transformers=[('num',\n",
       "                                                                         Pipeline(steps=[('imputer',\n",
       "                                                                                          SimpleImputer(strategy='median')),\n",
       "                                                                                         ('scaler',\n",
       "                                                                                          StandardScaler())]),\n",
       "                                                                         Index(['parent_age', 'parent_salary', 'house_area', 'average_grades'], dtype='object')),\n",
       "                                                                        ('cat',\n",
       "                                                                         Pipeline(steps=[('imputer',\n",
       "                                                                                          SimpleImputer(fill_value='missing',\n",
       "                                                                                                        strateg...\n",
       "                                                                                         ('onehot',\n",
       "                                                                                          OneHotEncoder(handle_unknown='ignore'))]),\n",
       "                                                                         Index(['type_school', 'school_accreditation', 'gender', 'interest',\n",
       "       'residence', 'parent_was_in_college'],\n",
       "      dtype='object'))])),\n",
       "                                       ('regressor', LogisticRegression())]),\n",
       "             param_grid={'regressor__C': [0.01, 0.1, 1, 10],\n",
       "                         'regressor__penalty': ['l1', 'l2'],\n",
       "                         'regressor__solver': ['liblinear']},\n",
       "             scoring='roc_auc', verbose=True)"
      ]
     },
     "execution_count": 67,
     "metadata": {},
     "output_type": "execute_result"
    }
   ],
   "source": [
    "lr_grid.fit(X_train, y_train)"
   ]
  },
  {
   "cell_type": "code",
   "execution_count": 68,
   "id": "b6dffc9e",
   "metadata": {},
   "outputs": [
    {
     "data": {
      "text/plain": [
       "{'regressor__C': 1,\n",
       " 'regressor__penalty': 'l2',\n",
       " 'regressor__solver': 'liblinear'}"
      ]
     },
     "execution_count": 68,
     "metadata": {},
     "output_type": "execute_result"
    }
   ],
   "source": [
    "lr_grid.best_params_"
   ]
  },
  {
   "cell_type": "code",
   "execution_count": 69,
   "id": "744bbfec",
   "metadata": {},
   "outputs": [
    {
     "data": {
      "text/plain": [
       "0.9353840682788052"
      ]
     },
     "execution_count": 69,
     "metadata": {},
     "output_type": "execute_result"
    }
   ],
   "source": [
    "lr_grid.best_score_"
   ]
  },
  {
   "cell_type": "code",
   "execution_count": 70,
   "id": "b9480423",
   "metadata": {},
   "outputs": [],
   "source": [
    "pred_lr = lr_grid.predict(X_test)"
   ]
  },
  {
   "cell_type": "code",
   "execution_count": 71,
   "id": "1cde2f1d",
   "metadata": {},
   "outputs": [
    {
     "data": {
      "text/plain": [
       "(0.8567307692307692, 0.856)"
      ]
     },
     "execution_count": 71,
     "metadata": {},
     "output_type": "execute_result"
    }
   ],
   "source": [
    "roc_auc_score(y_test, pred_lr), accuracy_score(y_test, pred_lr)"
   ]
  },
  {
   "cell_type": "code",
   "execution_count": 73,
   "id": "d484f0b1",
   "metadata": {},
   "outputs": [
    {
     "name": "stdout",
     "output_type": "stream",
     "text": [
      "У базовой реализации логистической регрессии roc_auc_score был: 0.8567307692307692\n"
     ]
    }
   ],
   "source": [
    "print(f'У базовой реализации логистической регрессии roc_auc_score был: {roc_auc_score(y_test, lr_pred)}')"
   ]
  },
  {
   "cell_type": "code",
   "execution_count": null,
   "id": "7333dd58",
   "metadata": {},
   "outputs": [],
   "source": [
    "# Вывод: Базовая реализация логистической регрессии работает хорошо."
   ]
  },
  {
   "cell_type": "markdown",
   "id": "032fd0e6",
   "metadata": {},
   "source": [
    "### 5.2 Поиск для линейной классификации (Стохастического поиска)"
   ]
  },
  {
   "cell_type": "code",
   "execution_count": 74,
   "id": "a58291b6",
   "metadata": {},
   "outputs": [],
   "source": [
    "SGD_params = {'regressor__alpha': [0.0001, 0.001, 0.01, 0.1, 1, 10]}"
   ]
  },
  {
   "cell_type": "code",
   "execution_count": 75,
   "id": "dca752f2",
   "metadata": {},
   "outputs": [],
   "source": [
    "SGD_grid = GridSearchCV(SGDclf, SGD_params, cv=5, verbose=True, scoring='roc_auc' )"
   ]
  },
  {
   "cell_type": "code",
   "execution_count": 76,
   "id": "12bc23d1",
   "metadata": {
    "collapsed": true
   },
   "outputs": [
    {
     "name": "stdout",
     "output_type": "stream",
     "text": [
      "Fitting 5 folds for each of 6 candidates, totalling 30 fits\n"
     ]
    },
    {
     "data": {
      "text/plain": [
       "GridSearchCV(cv=5,\n",
       "             estimator=Pipeline(steps=[('preprocessor',\n",
       "                                        ColumnTransformer(transformers=[('num',\n",
       "                                                                         Pipeline(steps=[('imputer',\n",
       "                                                                                          SimpleImputer(strategy='median')),\n",
       "                                                                                         ('scaler',\n",
       "                                                                                          StandardScaler())]),\n",
       "                                                                         Index(['parent_age', 'parent_salary', 'house_area', 'average_grades'], dtype='object')),\n",
       "                                                                        ('cat',\n",
       "                                                                         Pipeline(steps=[('imputer',\n",
       "                                                                                          SimpleImputer(fill_value='missing',\n",
       "                                                                                                        strategy='constant')),\n",
       "                                                                                         ('onehot',\n",
       "                                                                                          OneHotEncoder(handle_unknown='ignore'))]),\n",
       "                                                                         Index(['type_school', 'school_accreditation', 'gender', 'interest',\n",
       "       'residence', 'parent_was_in_college'],\n",
       "      dtype='object'))])),\n",
       "                                       ('regressor', SGDClassifier())]),\n",
       "             param_grid={'regressor__alpha': [0.0001, 0.001, 0.01, 0.1, 1, 10]},\n",
       "             scoring='roc_auc', verbose=True)"
      ]
     },
     "execution_count": 76,
     "metadata": {},
     "output_type": "execute_result"
    }
   ],
   "source": [
    "SGD_grid.fit(X_train, y_train)"
   ]
  },
  {
   "cell_type": "code",
   "execution_count": 77,
   "id": "899a2b73",
   "metadata": {},
   "outputs": [
    {
     "data": {
      "text/plain": [
       "{'regressor__alpha': 0.01}"
      ]
     },
     "execution_count": 77,
     "metadata": {},
     "output_type": "execute_result"
    }
   ],
   "source": [
    "SGD_grid.best_params_"
   ]
  },
  {
   "cell_type": "code",
   "execution_count": 78,
   "id": "407c01c7",
   "metadata": {},
   "outputs": [
    {
     "data": {
      "text/plain": [
       "0.9320768136557611"
      ]
     },
     "execution_count": 78,
     "metadata": {},
     "output_type": "execute_result"
    }
   ],
   "source": [
    "SGD_grid.best_score_"
   ]
  },
  {
   "cell_type": "code",
   "execution_count": 79,
   "id": "6b9eb9c7",
   "metadata": {},
   "outputs": [],
   "source": [
    "pred_SGD = SGD_grid.predict(X_test)"
   ]
  },
  {
   "cell_type": "code",
   "execution_count": 80,
   "id": "ac0db67a",
   "metadata": {},
   "outputs": [
    {
     "data": {
      "text/plain": [
       "(0.8567307692307692, 0.856)"
      ]
     },
     "execution_count": 80,
     "metadata": {},
     "output_type": "execute_result"
    }
   ],
   "source": [
    "roc_auc_score(y_test, pred_SGD), accuracy_score(y_test, pred_SGD)"
   ]
  },
  {
   "cell_type": "code",
   "execution_count": 81,
   "id": "2de2b52d",
   "metadata": {},
   "outputs": [
    {
     "name": "stdout",
     "output_type": "stream",
     "text": [
      "У базовой реализации cтохастического поиска roc_auc_score был: 0.8342948717948717\n"
     ]
    }
   ],
   "source": [
    "print(f'У базовой реализации cтохастического поиска roc_auc_score был: {roc_auc_score(y_test, SGD_pred)}')"
   ]
  },
  {
   "cell_type": "code",
   "execution_count": null,
   "id": "ef1a42d8",
   "metadata": {},
   "outputs": [],
   "source": [
    "# Вывод: GridSearch показал немного лучший результат у cтохастического поиска чем из коробки"
   ]
  },
  {
   "cell_type": "markdown",
   "id": "b94f9e9a",
   "metadata": {},
   "source": [
    "### 5.3 Поиск для дерева"
   ]
  },
  {
   "cell_type": "code",
   "execution_count": 83,
   "id": "a920bca2",
   "metadata": {},
   "outputs": [],
   "source": [
    "tree_params = {'regressor__max_depth': np.arange(1,11), 'regressor__max_features': np.arange(3,19)}"
   ]
  },
  {
   "cell_type": "code",
   "execution_count": 84,
   "id": "61e41e39",
   "metadata": {},
   "outputs": [],
   "source": [
    "tree_grid = GridSearchCV(Tree_clf, tree_params, cv=5, verbose=True, scoring='roc_auc' )"
   ]
  },
  {
   "cell_type": "code",
   "execution_count": 85,
   "id": "e6a926c9",
   "metadata": {
    "collapsed": true
   },
   "outputs": [
    {
     "name": "stdout",
     "output_type": "stream",
     "text": [
      "Fitting 5 folds for each of 160 candidates, totalling 800 fits\n"
     ]
    },
    {
     "data": {
      "text/plain": [
       "GridSearchCV(cv=5,\n",
       "             estimator=Pipeline(steps=[('preprocessor',\n",
       "                                        ColumnTransformer(transformers=[('num',\n",
       "                                                                         Pipeline(steps=[('imputer',\n",
       "                                                                                          SimpleImputer(strategy='median')),\n",
       "                                                                                         ('scaler',\n",
       "                                                                                          StandardScaler())]),\n",
       "                                                                         Index(['parent_age', 'parent_salary', 'house_area', 'average_grades'], dtype='object')),\n",
       "                                                                        ('cat',\n",
       "                                                                         Pipeline(steps=[('imputer',\n",
       "                                                                                          SimpleImputer(fill_value='missing',\n",
       "                                                                                                        strateg...\n",
       "                                                                                          OneHotEncoder(handle_unknown='ignore'))]),\n",
       "                                                                         Index(['type_school', 'school_accreditation', 'gender', 'interest',\n",
       "       'residence', 'parent_was_in_college'],\n",
       "      dtype='object'))])),\n",
       "                                       ('regressor',\n",
       "                                        DecisionTreeClassifier())]),\n",
       "             param_grid={'regressor__max_depth': array([ 1,  2,  3,  4,  5,  6,  7,  8,  9, 10]),\n",
       "                         'regressor__max_features': array([ 3,  4,  5,  6,  7,  8,  9, 10, 11, 12, 13, 14, 15, 16, 17, 18])},\n",
       "             scoring='roc_auc', verbose=True)"
      ]
     },
     "execution_count": 85,
     "metadata": {},
     "output_type": "execute_result"
    }
   ],
   "source": [
    "tree_grid.fit(X_train, y_train)"
   ]
  },
  {
   "cell_type": "code",
   "execution_count": 86,
   "id": "46fc3e24",
   "metadata": {},
   "outputs": [
    {
     "data": {
      "text/plain": [
       "{'regressor__max_depth': 5, 'regressor__max_features': 17}"
      ]
     },
     "execution_count": 86,
     "metadata": {},
     "output_type": "execute_result"
    }
   ],
   "source": [
    "tree_grid.best_params_"
   ]
  },
  {
   "cell_type": "code",
   "execution_count": 87,
   "id": "e9069d03",
   "metadata": {},
   "outputs": [
    {
     "data": {
      "text/plain": [
       "0.8979196301564721"
      ]
     },
     "execution_count": 87,
     "metadata": {},
     "output_type": "execute_result"
    }
   ],
   "source": [
    "tree_grid.best_score_"
   ]
  },
  {
   "cell_type": "code",
   "execution_count": 91,
   "id": "8ce71dce",
   "metadata": {},
   "outputs": [],
   "source": [
    "pred_tree = tree_grid.predict(X_test)"
   ]
  },
  {
   "cell_type": "code",
   "execution_count": 92,
   "id": "7b932458",
   "metadata": {},
   "outputs": [
    {
     "data": {
      "text/plain": [
       "(0.8717948717948718, 0.872)"
      ]
     },
     "execution_count": 92,
     "metadata": {},
     "output_type": "execute_result"
    }
   ],
   "source": [
    "roc_auc_score(y_test, pred_tree), accuracy_score(y_test, pred_tree)"
   ]
  },
  {
   "cell_type": "code",
   "execution_count": 93,
   "id": "acb2ece6",
   "metadata": {},
   "outputs": [
    {
     "name": "stdout",
     "output_type": "stream",
     "text": [
      "У базовой реализации дерева решений roc_auc_score был: 0.8631410256410257\n"
     ]
    }
   ],
   "source": [
    "print(f'У базовой реализации дерева решений roc_auc_score был: {roc_auc_score(y_test, Tree_pred)}')"
   ]
  },
  {
   "cell_type": "code",
   "execution_count": 94,
   "id": "62bd6513",
   "metadata": {},
   "outputs": [],
   "source": [
    "# Вывод: GridSearch показал немного лучший результат у дерева решений чем из коробки"
   ]
  },
  {
   "cell_type": "markdown",
   "id": "44b8bccb",
   "metadata": {},
   "source": [
    "### 5.4 Поиск для метода опорных векторов"
   ]
  },
  {
   "cell_type": "code",
   "execution_count": 95,
   "id": "f8ae6bd0",
   "metadata": {},
   "outputs": [],
   "source": [
    "SVM_params = {\"regressor__C\": [0.01, 0.1, 1, 10], \"regressor__penalty\": [\"l1\", \"l2\"], \n",
    "              \"regressor__dual\": [False]}"
   ]
  },
  {
   "cell_type": "code",
   "execution_count": 96,
   "id": "40d04e1a",
   "metadata": {},
   "outputs": [],
   "source": [
    "SVM_grid = GridSearchCV(SVM_clf, SVM_params, cv=5, verbose=True, scoring='roc_auc' )"
   ]
  },
  {
   "cell_type": "code",
   "execution_count": 97,
   "id": "cec725ea",
   "metadata": {
    "collapsed": true
   },
   "outputs": [
    {
     "name": "stdout",
     "output_type": "stream",
     "text": [
      "Fitting 5 folds for each of 8 candidates, totalling 40 fits\n"
     ]
    },
    {
     "data": {
      "text/plain": [
       "GridSearchCV(cv=5,\n",
       "             estimator=Pipeline(steps=[('preprocessor',\n",
       "                                        ColumnTransformer(transformers=[('num',\n",
       "                                                                         Pipeline(steps=[('imputer',\n",
       "                                                                                          SimpleImputer(strategy='median')),\n",
       "                                                                                         ('scaler',\n",
       "                                                                                          StandardScaler())]),\n",
       "                                                                         Index(['parent_age', 'parent_salary', 'house_area', 'average_grades'], dtype='object')),\n",
       "                                                                        ('cat',\n",
       "                                                                         Pipeline(steps=[('imputer',\n",
       "                                                                                          SimpleImputer(fill_value='missing',\n",
       "                                                                                                        strategy='constant')),\n",
       "                                                                                         ('onehot',\n",
       "                                                                                          OneHotEncoder(handle_unknown='ignore'))]),\n",
       "                                                                         Index(['type_school', 'school_accreditation', 'gender', 'interest',\n",
       "       'residence', 'parent_was_in_college'],\n",
       "      dtype='object'))])),\n",
       "                                       ('regressor', LinearSVC())]),\n",
       "             param_grid={'regressor__C': [0.01, 0.1, 1, 10],\n",
       "                         'regressor__dual': [False],\n",
       "                         'regressor__penalty': ['l1', 'l2']},\n",
       "             scoring='roc_auc', verbose=True)"
      ]
     },
     "execution_count": 97,
     "metadata": {},
     "output_type": "execute_result"
    }
   ],
   "source": [
    "SVM_grid.fit(X_train, y_train)"
   ]
  },
  {
   "cell_type": "code",
   "execution_count": 98,
   "id": "95e4b09b",
   "metadata": {},
   "outputs": [
    {
     "data": {
      "text/plain": [
       "{'regressor__C': 1, 'regressor__dual': False, 'regressor__penalty': 'l1'}"
      ]
     },
     "execution_count": 98,
     "metadata": {},
     "output_type": "execute_result"
    }
   ],
   "source": [
    "SVM_grid.best_params_"
   ]
  },
  {
   "cell_type": "code",
   "execution_count": 99,
   "id": "5e9fe7bf",
   "metadata": {},
   "outputs": [
    {
     "data": {
      "text/plain": [
       "0.935348506401138"
      ]
     },
     "execution_count": 99,
     "metadata": {},
     "output_type": "execute_result"
    }
   ],
   "source": [
    "SVM_grid.best_score_"
   ]
  },
  {
   "cell_type": "code",
   "execution_count": 100,
   "id": "e9181108",
   "metadata": {},
   "outputs": [],
   "source": [
    "pred_SVM = SVM_grid.predict(X_test)"
   ]
  },
  {
   "cell_type": "code",
   "execution_count": 101,
   "id": "f0d52792",
   "metadata": {},
   "outputs": [
    {
     "data": {
      "text/plain": [
       "(0.860897435897436, 0.86)"
      ]
     },
     "execution_count": 101,
     "metadata": {},
     "output_type": "execute_result"
    }
   ],
   "source": [
    "roc_auc_score(y_test, pred_SVM), accuracy_score(y_test, pred_SVM)"
   ]
  },
  {
   "cell_type": "code",
   "execution_count": 102,
   "id": "1223621e",
   "metadata": {},
   "outputs": [
    {
     "name": "stdout",
     "output_type": "stream",
     "text": [
      "У базовой реализации дерева решений roc_auc_score был: 0.860897435897436\n"
     ]
    }
   ],
   "source": [
    "print(f'У базовой реализации дерева решений roc_auc_score был: {roc_auc_score(y_test, SVM_pred)}')"
   ]
  },
  {
   "cell_type": "code",
   "execution_count": 103,
   "id": "72725091",
   "metadata": {},
   "outputs": [],
   "source": [
    "# Вывод: Базовая реализация метода опорных векторов работает хорошо."
   ]
  },
  {
   "cell_type": "code",
   "execution_count": null,
   "id": "9477e97d",
   "metadata": {},
   "outputs": [],
   "source": []
  },
  {
   "cell_type": "code",
   "execution_count": null,
   "id": "5b2dfe28",
   "metadata": {},
   "outputs": [],
   "source": []
  }
 ],
 "metadata": {
  "kernelspec": {
   "display_name": "Python 3 (ipykernel)",
   "language": "python",
   "name": "python3"
  },
  "language_info": {
   "codemirror_mode": {
    "name": "ipython",
    "version": 3
   },
   "file_extension": ".py",
   "mimetype": "text/x-python",
   "name": "python",
   "nbconvert_exporter": "python",
   "pygments_lexer": "ipython3",
   "version": "3.9.13"
  }
 },
 "nbformat": 4,
 "nbformat_minor": 5
}
